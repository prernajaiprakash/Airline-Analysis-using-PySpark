{
 "cells": [
  {
   "cell_type": "markdown",
   "id": "815baaa9",
   "metadata": {},
   "source": [
    "### Importing pyspark capabilities and session"
   ]
  },
  {
   "cell_type": "code",
   "execution_count": 1,
   "id": "82ffcbbd",
   "metadata": {},
   "outputs": [
    {
     "data": {
      "application/vnd.jupyter.widget-view+json": {
       "model_id": "836975b4bc304aaebb3a0444bca447de",
       "version_major": 2,
       "version_minor": 0
      },
      "text/plain": [
       "VBox()"
      ]
     },
     "metadata": {},
     "output_type": "display_data"
    },
    {
     "name": "stdout",
     "output_type": "stream",
     "text": [
      "Starting Spark application\n"
     ]
    },
    {
     "data": {
      "text/html": [
       "<table>\n",
       "<tr><th>ID</th><th>YARN Application ID</th><th>Kind</th><th>State</th><th>Spark UI</th><th>Driver log</th><th>Current session?</th></tr><tr><td>0</td><td>application_1670463192599_0001</td><td>pyspark</td><td>idle</td><td><a target=\"_blank\" href=\"http://ip-172-31-41-108.ec2.internal:20888/proxy/application_1670463192599_0001/\">Link</a></td><td><a target=\"_blank\" href=\"http://ip-172-31-44-25.ec2.internal:8042/node/containerlogs/container_1670463192599_0001_01_000001/livy\">Link</a></td><td>✔</td></tr></table>"
      ],
      "text/plain": [
       "<IPython.core.display.HTML object>"
      ]
     },
     "metadata": {},
     "output_type": "display_data"
    },
    {
     "data": {
      "application/vnd.jupyter.widget-view+json": {
       "model_id": "",
       "version_major": 2,
       "version_minor": 0
      },
      "text/plain": [
       "FloatProgress(value=0.0, bar_style='info', description='Progress:', layout=Layout(height='25px', width='50%'),…"
      ]
     },
     "metadata": {},
     "output_type": "display_data"
    },
    {
     "name": "stdout",
     "output_type": "stream",
     "text": [
      "SparkSession available as 'spark'.\n"
     ]
    },
    {
     "data": {
      "application/vnd.jupyter.widget-view+json": {
       "model_id": "",
       "version_major": 2,
       "version_minor": 0
      },
      "text/plain": [
       "FloatProgress(value=0.0, bar_style='info', description='Progress:', layout=Layout(height='25px', width='50%'),…"
      ]
     },
     "metadata": {},
     "output_type": "display_data"
    }
   ],
   "source": [
    "from pyspark.sql import SparkSession\n",
    "from pyspark import SparkContext\n",
    "from pyspark.sql.functions import *\n",
    "from pyspark.sql.types import *\n",
    "from pyspark.sql.functions import when, col, sum, desc\n",
    "import pyspark.sql\n",
    "from datetime import datetime\n",
    "from pyspark.sql.functions import udf\n",
    "from pyspark.sql.types import DateType\n",
    "from pyspark.sql.functions import year, month\n",
    "from pyspark.sql.types import IntegerType,StringType\n"
   ]
  },
  {
   "cell_type": "code",
   "execution_count": 3,
   "id": "c67eb9bf",
   "metadata": {},
   "outputs": [
    {
     "data": {
      "application/vnd.jupyter.widget-view+json": {
       "model_id": "8736e8f25f0c465b8b039626a53395d5",
       "version_major": 2,
       "version_minor": 0
      },
      "text/plain": [
       "VBox()"
      ]
     },
     "metadata": {},
     "output_type": "display_data"
    },
    {
     "data": {
      "application/vnd.jupyter.widget-view+json": {
       "model_id": "",
       "version_major": 2,
       "version_minor": 0
      },
      "text/plain": [
       "FloatProgress(value=0.0, bar_style='info', description='Progress:', layout=Layout(height='25px', width='50%'),…"
      ]
     },
     "metadata": {},
     "output_type": "display_data"
    }
   ],
   "source": [
    "#Initiating a spark session \n",
    "spark = SparkSession \\\n",
    "    .builder \\\n",
    "    .appName(\"aws\") \\\n",
    "    .getOrCreate()\n",
    "    \n",
    "sc = SparkContext.getOrCreate()"
   ]
  },
  {
   "cell_type": "code",
   "execution_count": null,
   "id": "9ffd330f",
   "metadata": {},
   "outputs": [],
   "source": [
    "# Importing csv files from S3\n",
    "y19 = spark.read.csv(\"s3://airlinebdai/y19.csv\",inferSchema = \"true\", header = \"true\")\n",
    "y20 = spark.read.csv(\"s3://airlinebdai/y20.csv\",inferSchema = \"true\", header = \"true\")\n",
    "y21 = spark.read.csv(\"s3://airlinebdai/y21.csv\", inferSchema = \"true\", header = \"true\")\n",
    "covid = spark.read.csv(\"s3://airlinebdai/United_States_COVID-19_Cases_and_Deaths_by_State_over_Time_-_ARCHIVED.csv\",  inferSchema = \"true\", header = \"true\")\n",
    "\n"
   ]
  },
  {
   "cell_type": "code",
   "execution_count": 62,
   "id": "ff410845",
   "metadata": {},
   "outputs": [
    {
     "data": {
      "application/vnd.jupyter.widget-view+json": {
       "model_id": "f78489c29e674eeb8ab90aa21eff6181",
       "version_major": 2,
       "version_minor": 0
      },
      "text/plain": [
       "VBox()"
      ]
     },
     "metadata": {},
     "output_type": "display_data"
    },
    {
     "data": {
      "application/vnd.jupyter.widget-view+json": {
       "model_id": "",
       "version_major": 2,
       "version_minor": 0
      },
      "text/plain": [
       "FloatProgress(value=0.0, bar_style='info', description='Progress:', layout=Layout(height='25px', width='50%'),…"
      ]
     },
     "metadata": {},
     "output_type": "display_data"
    },
    {
     "name": "stdout",
     "output_type": "stream",
     "text": [
      "(8091684, 43)"
     ]
    }
   ],
   "source": [
    "#Shape of 2019 data\n",
    "print((y19.count(), len(y19.columns)))"
   ]
  },
  {
   "cell_type": "code",
   "execution_count": 63,
   "id": "5c16010a",
   "metadata": {},
   "outputs": [
    {
     "data": {
      "application/vnd.jupyter.widget-view+json": {
       "model_id": "83f950778d014451b27434f5371d3661",
       "version_major": 2,
       "version_minor": 0
      },
      "text/plain": [
       "VBox()"
      ]
     },
     "metadata": {},
     "output_type": "display_data"
    },
    {
     "data": {
      "application/vnd.jupyter.widget-view+json": {
       "model_id": "",
       "version_major": 2,
       "version_minor": 0
      },
      "text/plain": [
       "FloatProgress(value=0.0, bar_style='info', description='Progress:', layout=Layout(height='25px', width='50%'),…"
      ]
     },
     "metadata": {},
     "output_type": "display_data"
    },
    {
     "name": "stdout",
     "output_type": "stream",
     "text": [
      "(5022397, 43)"
     ]
    }
   ],
   "source": [
    "#Shape of 2020 data\n",
    "print((y20.count(), len(y20.columns)))"
   ]
  },
  {
   "cell_type": "code",
   "execution_count": 64,
   "id": "d67d2f7b",
   "metadata": {},
   "outputs": [
    {
     "data": {
      "application/vnd.jupyter.widget-view+json": {
       "model_id": "c17ac873478e4070bf579c64c0f7c654",
       "version_major": 2,
       "version_minor": 0
      },
      "text/plain": [
       "VBox()"
      ]
     },
     "metadata": {},
     "output_type": "display_data"
    },
    {
     "data": {
      "application/vnd.jupyter.widget-view+json": {
       "model_id": "",
       "version_major": 2,
       "version_minor": 0
      },
      "text/plain": [
       "FloatProgress(value=0.0, bar_style='info', description='Progress:', layout=Layout(height='25px', width='50%'),…"
      ]
     },
     "metadata": {},
     "output_type": "display_data"
    },
    {
     "name": "stdout",
     "output_type": "stream",
     "text": [
      "(6311871, 43)"
     ]
    }
   ],
   "source": [
    "#Shape of 2021 data\n",
    "print((y21.count(), len(y21.columns)))"
   ]
  },
  {
   "cell_type": "code",
   "execution_count": 65,
   "id": "52ebd39e",
   "metadata": {},
   "outputs": [
    {
     "data": {
      "application/vnd.jupyter.widget-view+json": {
       "model_id": "fa7208f233194fc49980e7ac739d2a0e",
       "version_major": 2,
       "version_minor": 0
      },
      "text/plain": [
       "VBox()"
      ]
     },
     "metadata": {},
     "output_type": "display_data"
    },
    {
     "data": {
      "application/vnd.jupyter.widget-view+json": {
       "model_id": "",
       "version_major": 2,
       "version_minor": 0
      },
      "text/plain": [
       "FloatProgress(value=0.0, bar_style='info', description='Progress:', layout=Layout(height='25px', width='50%'),…"
      ]
     },
     "metadata": {},
     "output_type": "display_data"
    },
    {
     "name": "stdout",
     "output_type": "stream",
     "text": [
      "(60060, 3)"
     ]
    }
   ],
   "source": [
    "#Shape of covid data\n",
    "print((covid.count(), len(covid.columns)))"
   ]
  },
  {
   "cell_type": "code",
   "execution_count": 7,
   "id": "58aeead3",
   "metadata": {},
   "outputs": [
    {
     "data": {
      "application/vnd.jupyter.widget-view+json": {
       "model_id": "aa853bfbd8664b2697a88d25e9a2d03b",
       "version_major": 2,
       "version_minor": 0
      },
      "text/plain": [
       "VBox()"
      ]
     },
     "metadata": {},
     "output_type": "display_data"
    },
    {
     "data": {
      "application/vnd.jupyter.widget-view+json": {
       "model_id": "",
       "version_major": 2,
       "version_minor": 0
      },
      "text/plain": [
       "FloatProgress(value=0.0, bar_style='info', description='Progress:', layout=Layout(height='25px', width='50%'),…"
      ]
     },
     "metadata": {},
     "output_type": "display_data"
    }
   ],
   "source": [
    "#Changing boolean to numerical columns\n",
    "y19 = y19.withColumn('Cancelled', when(col('Cancelled') == True, 1).otherwise(0))\n",
    "y20 = y20.withColumn('Cancelled', when(col('Cancelled') == True, 1).otherwise(0))\n",
    "y21 = y21.withColumn('Cancelled', when(col('Cancelled') == True, 1).otherwise(0))\n",
    "\n",
    "\n",
    "\n",
    "y19 = y19.withColumn('Diverted', when(col('Diverted') == True, 1).otherwise(0))\n",
    "y20 = y20.withColumn('Diverted', when(col('Diverted') == True, 1).otherwise(0))\n",
    "y21 = y21.withColumn('Diverted', when(col('Diverted') == True, 1).otherwise(0))\n",
    "\n"
   ]
  },
  {
   "cell_type": "code",
   "execution_count": 9,
   "id": "09b909fe",
   "metadata": {},
   "outputs": [
    {
     "data": {
      "application/vnd.jupyter.widget-view+json": {
       "model_id": "38aa61b02815459bb60696e2318364dd",
       "version_major": 2,
       "version_minor": 0
      },
      "text/plain": [
       "VBox()"
      ]
     },
     "metadata": {},
     "output_type": "display_data"
    },
    {
     "data": {
      "application/vnd.jupyter.widget-view+json": {
       "model_id": "",
       "version_major": 2,
       "version_minor": 0
      },
      "text/plain": [
       "FloatProgress(value=0.0, bar_style='info', description='Progress:', layout=Layout(height='25px', width='50%'),…"
      ]
     },
     "metadata": {},
     "output_type": "display_data"
    },
    {
     "name": "stdout",
     "output_type": "stream",
     "text": [
      "+-------------------+---------+------+----+---------+--------+----------+-------+---------------+--------+-------+---------------+-------+--------------+-----------------+--------+----+-------+-----+----------+---------+---------------------------+-------------------------------+-----------------+-------------------------------+---------------+------------------+---------------+-----------+---------------+-------------+----------------+----------------+------------+---------+-------------+--------+--------------------+----------+--------+--------+------------------+\n",
      "|         FlightDate|  Airline|Origin|Dest|Cancelled|Diverted|CRSDepTime|DepTime|DepDelayMinutes|DepDelay|ArrTime|ArrDelayMinutes|AirTime|CRSElapsedTime|ActualElapsedTime|Distance|Year|Quarter|Month|DayofMonth|DayOfWeek|IATA_Code_Marketing_Airline|Flight_Number_Marketing_Airline|Operating_Airline|Flight_Number_Operating_Airline|OriginAirportID|OriginAirportSeqID| OriginCityName|OriginState|OriginStateName|DestAirportID|DestAirportSeqID|DestCityMarketID|DestCityName|DestState|DestStateName|DepDel15|DepartureDelayGroups|CRSArrTime|ArrDelay|ArrDel15|ArrivalDelayGroups|\n",
      "+-------------------+---------+------+----+---------+--------+----------+-------+---------------+--------+-------+---------------+-------+--------------+-----------------+--------+----+-------+-----+----------+---------+---------------------------+-------------------------------+-----------------+-------------------------------+---------------+------------------+---------------+-----------+---------------+-------------+----------------+----------------+------------+---------+-------------+--------+--------------------+----------+--------+--------+------------------+\n",
      "|2019-04-01 00:00:00|Envoy Air|   LIT| ORD|        0|       0|      1212| 1209.0|            0.0|    -3.0| 1350.0|            0.0|   83.0|         113.0|            101.0|   552.0|2019|      2|    4|         1|        1|                         AA|                           3315|               MQ|                           3315|          12992|           1299206|Little Rock, AR|         AR|       Arkansas|        13930|         1393007|           30977| Chicago, IL|       IL|     Illinois|     0.0|                -1.0|      1405|   -15.0|     0.0|              -1.0|\n",
      "|2019-04-02 00:00:00|Envoy Air|   LIT| ORD|        0|       0|      1212| 1200.0|            0.0|   -12.0| 1348.0|            0.0|   89.0|         113.0|            108.0|   552.0|2019|      2|    4|         2|        2|                         AA|                           3315|               MQ|                           3315|          12992|           1299206|Little Rock, AR|         AR|       Arkansas|        13930|         1393007|           30977| Chicago, IL|       IL|     Illinois|     0.0|                -1.0|      1405|   -17.0|     0.0|              -2.0|\n",
      "|2019-04-03 00:00:00|Envoy Air|   LIT| ORD|        0|       0|      1212| 1203.0|            0.0|    -9.0| 1342.0|            0.0|   82.0|         113.0|             99.0|   552.0|2019|      2|    4|         3|        3|                         AA|                           3315|               MQ|                           3315|          12992|           1299206|Little Rock, AR|         AR|       Arkansas|        13930|         1393007|           30977| Chicago, IL|       IL|     Illinois|     0.0|                -1.0|      1405|   -23.0|     0.0|              -2.0|\n",
      "|2019-04-04 00:00:00|Envoy Air|   LIT| ORD|        0|       0|      1212| 1435.0|          143.0|   143.0| 1621.0|          136.0|   83.0|         113.0|            106.0|   552.0|2019|      2|    4|         4|        4|                         AA|                           3315|               MQ|                           3315|          12992|           1299206|Little Rock, AR|         AR|       Arkansas|        13930|         1393007|           30977| Chicago, IL|       IL|     Illinois|     1.0|                 9.0|      1405|   136.0|     1.0|               9.0|\n",
      "|2019-04-05 00:00:00|Envoy Air|   LIT| ORD|        0|       0|      1212| 1216.0|            4.0|     4.0| 1410.0|            5.0|   83.0|         113.0|            114.0|   552.0|2019|      2|    4|         5|        5|                         AA|                           3315|               MQ|                           3315|          12992|           1299206|Little Rock, AR|         AR|       Arkansas|        13930|         1393007|           30977| Chicago, IL|       IL|     Illinois|     0.0|                 0.0|      1405|     5.0|     0.0|               0.0|\n",
      "+-------------------+---------+------+----+---------+--------+----------+-------+---------------+--------+-------+---------------+-------+--------------+-----------------+--------+----+-------+-----+----------+---------+---------------------------+-------------------------------+-----------------+-------------------------------+---------------+------------------+---------------+-----------+---------------+-------------+----------------+----------------+------------+---------+-------------+--------+--------------------+----------+--------+--------+------------------+\n",
      "only showing top 5 rows"
     ]
    }
   ],
   "source": [
    "y19.show(5)"
   ]
  },
  {
   "cell_type": "code",
   "execution_count": 57,
   "id": "42351104",
   "metadata": {},
   "outputs": [
    {
     "data": {
      "application/vnd.jupyter.widget-view+json": {
       "model_id": "9f6549643aea4bd8b367f75e72597af6",
       "version_major": 2,
       "version_minor": 0
      },
      "text/plain": [
       "VBox()"
      ]
     },
     "metadata": {},
     "output_type": "display_data"
    },
    {
     "data": {
      "application/vnd.jupyter.widget-view+json": {
       "model_id": "",
       "version_major": 2,
       "version_minor": 0
      },
      "text/plain": [
       "FloatProgress(value=0.0, bar_style='info', description='Progress:', layout=Layout(height='25px', width='50%'),…"
      ]
     },
     "metadata": {},
     "output_type": "display_data"
    },
    {
     "name": "stdout",
     "output_type": "stream",
     "text": [
      "(19425952, 43)"
     ]
    }
   ],
   "source": [
    "#Combining all years data \n",
    "merged = y19.union(y20)\n",
    "merged = merged.union(y21)\n",
    "print((merged.count(), len(merged.columns)))"
   ]
  },
  {
   "cell_type": "code",
   "execution_count": 79,
   "id": "3ace035b",
   "metadata": {},
   "outputs": [
    {
     "data": {
      "application/vnd.jupyter.widget-view+json": {
       "model_id": "6d6fdf15cc7749339de4c45cf415de59",
       "version_major": 2,
       "version_minor": 0
      },
      "text/plain": [
       "VBox()"
      ]
     },
     "metadata": {},
     "output_type": "display_data"
    },
    {
     "data": {
      "application/vnd.jupyter.widget-view+json": {
       "model_id": "",
       "version_major": 2,
       "version_minor": 0
      },
      "text/plain": [
       "FloatProgress(value=0.0, bar_style='info', description='Progress:', layout=Layout(height='25px', width='50%'),…"
      ]
     },
     "metadata": {},
     "output_type": "display_data"
    },
    {
     "name": "stdout",
     "output_type": "stream",
     "text": [
      "+-------------------+--------+---------+--------+---------+\n",
      "|         FlightDate|DepDelay|  Airline|ArrDelay|Cancelled|\n",
      "+-------------------+--------+---------+--------+---------+\n",
      "|2019-04-01 00:00:00|    -3.0|Envoy Air|   -15.0|        0|\n",
      "|2019-04-02 00:00:00|   -12.0|Envoy Air|   -17.0|        0|\n",
      "|2019-04-03 00:00:00|    -9.0|Envoy Air|   -23.0|        0|\n",
      "|2019-04-04 00:00:00|   143.0|Envoy Air|   136.0|        0|\n",
      "|2019-04-05 00:00:00|     4.0|Envoy Air|     5.0|        0|\n",
      "+-------------------+--------+---------+--------+---------+\n",
      "only showing top 5 rows"
     ]
    }
   ],
   "source": [
    "merged.show(5)"
   ]
  },
  {
   "cell_type": "markdown",
   "id": "43576b51",
   "metadata": {},
   "source": [
    "\n",
    "### Analyzing the Airlines were affected the most pre and post pandemic"
   ]
  },
  {
   "cell_type": "code",
   "execution_count": 11,
   "id": "263ffa8d",
   "metadata": {},
   "outputs": [
    {
     "data": {
      "application/vnd.jupyter.widget-view+json": {
       "model_id": "9fecd0b99e504e1aa1610c6d18473519",
       "version_major": 2,
       "version_minor": 0
      },
      "text/plain": [
       "VBox()"
      ]
     },
     "metadata": {},
     "output_type": "display_data"
    },
    {
     "data": {
      "application/vnd.jupyter.widget-view+json": {
       "model_id": "",
       "version_major": 2,
       "version_minor": 0
      },
      "text/plain": [
       "FloatProgress(value=0.0, bar_style='info', description='Progress:', layout=Layout(height='25px', width='50%'),…"
      ]
     },
     "metadata": {},
     "output_type": "display_data"
    },
    {
     "name": "stdout",
     "output_type": "stream",
     "text": [
      "+-----------------------------------------+---------------+\n",
      "|Airline                                  |Cancelled_Count|\n",
      "+-----------------------------------------+---------------+\n",
      "|Southwest Airlines Co.                   |33622          |\n",
      "|American Airlines Inc.                   |20151          |\n",
      "|SkyWest Airlines Inc.                    |17349          |\n",
      "|Envoy Air                                |11405          |\n",
      "|Republic Airlines                        |7679           |\n",
      "|Mesa Airlines Inc.                       |6597           |\n",
      "|Comair Inc.                              |6494           |\n",
      "|ExpressJet Airlines Inc.                 |5650           |\n",
      "|United Air Lines Inc.                    |5384           |\n",
      "|Capital Cargo International              |4680           |\n",
      "|Endeavor Air Inc.                        |4236           |\n",
      "|JetBlue Airways                          |3764           |\n",
      "|Air Wisconsin Airlines Corp              |3762           |\n",
      "|Spirit Air Lines                         |3590           |\n",
      "|Commutair Aka Champlain Enterprises, Inc.|3113           |\n",
      "|Alaska Airlines Inc.                     |3078           |\n",
      "|Trans States Airlines                    |3013           |\n",
      "|Horizon Air                              |2486           |\n",
      "|Frontier Airlines Inc.                   |2281           |\n",
      "|Delta Air Lines Inc.                     |1842           |\n",
      "+-----------------------------------------+---------------+\n",
      "only showing top 20 rows"
     ]
    }
   ],
   "source": [
    "#For year 2019\n",
    "a = y19.groupBy(\"Airline\").sum(\"Cancelled\").withColumnRenamed(\"sum(Cancelled)\", \"Cancelled_Count\") \n",
    "a.sort(a.Cancelled_Count.desc()).show(truncate=False)"
   ]
  },
  {
   "cell_type": "code",
   "execution_count": 25,
   "id": "e5d45bc5",
   "metadata": {},
   "outputs": [
    {
     "data": {
      "application/vnd.jupyter.widget-view+json": {
       "model_id": "362770cc0a164c53addda40540603f2d",
       "version_major": 2,
       "version_minor": 0
      },
      "text/plain": [
       "VBox()"
      ]
     },
     "metadata": {},
     "output_type": "display_data"
    },
    {
     "data": {
      "application/vnd.jupyter.widget-view+json": {
       "model_id": "",
       "version_major": 2,
       "version_minor": 0
      },
      "text/plain": [
       "FloatProgress(value=0.0, bar_style='info', description='Progress:', layout=Layout(height='25px', width='50%'),…"
      ]
     },
     "metadata": {},
     "output_type": "display_data"
    },
    {
     "name": "stdout",
     "output_type": "stream",
     "text": [
      "+----------------------------------------+---------------+\n",
      "|Airline                                 |Cancelled_Count|\n",
      "+----------------------------------------+---------------+\n",
      "|Southwest Airlines Co.                  |77842          |\n",
      "|American Airlines Inc.                  |34262          |\n",
      "|Delta Air Lines Inc.                    |28769          |\n",
      "|SkyWest Airlines Inc.                   |24881          |\n",
      "|United Air Lines Inc.                   |22593          |\n",
      "|Allegiant Air                           |14296          |\n",
      "|Comair Inc.                             |14099          |\n",
      "|Envoy Air                               |11194          |\n",
      "|Republic Airlines                       |10516          |\n",
      "|JetBlue Airways                         |7982           |\n",
      "|Mesa Airlines Inc.                      |7974           |\n",
      "|Endeavor Air Inc.                       |6940           |\n",
      "|Capital Cargo International             |5505           |\n",
      "|Alaska Airlines Inc.                    |5481           |\n",
      "|Frontier Airlines Inc.                  |4691           |\n",
      "|Horizon Air                             |4370           |\n",
      "|ExpressJet Airlines Inc.                |4022           |\n",
      "|Air Wisconsin Airlines Corp             |3532           |\n",
      "|Spirit Air Lines                        |2964           |\n",
      "|GoJet Airlines, LLC d/b/a United Express|2321           |\n",
      "+----------------------------------------+---------------+\n",
      "only showing top 20 rows"
     ]
    }
   ],
   "source": [
    "#For 2020\n",
    "b = y20.groupBy(\"Airline\").sum(\"Cancelled\").withColumnRenamed(\"sum(Cancelled)\", \"Cancelled_Count\") \n",
    "b.sort(b.Cancelled_Count.desc()).show(truncate=False)"
   ]
  },
  {
   "cell_type": "code",
   "execution_count": 26,
   "id": "8752bf10",
   "metadata": {},
   "outputs": [
    {
     "data": {
      "application/vnd.jupyter.widget-view+json": {
       "model_id": "c4990db788f34aeeb1767e3e02c7a215",
       "version_major": 2,
       "version_minor": 0
      },
      "text/plain": [
       "VBox()"
      ]
     },
     "metadata": {},
     "output_type": "display_data"
    },
    {
     "data": {
      "application/vnd.jupyter.widget-view+json": {
       "model_id": "",
       "version_major": 2,
       "version_minor": 0
      },
      "text/plain": [
       "FloatProgress(value=0.0, bar_style='info', description='Progress:', layout=Layout(height='25px', width='50%'),…"
      ]
     },
     "metadata": {},
     "output_type": "display_data"
    },
    {
     "name": "stdout",
     "output_type": "stream",
     "text": [
      "+-----------------------------------------+---------------+\n",
      "|Airline                                  |Cancelled_Count|\n",
      "+-----------------------------------------+---------------+\n",
      "|Southwest Airlines Co.                   |23505          |\n",
      "|American Airlines Inc.                   |16478          |\n",
      "|SkyWest Airlines Inc.                    |13323          |\n",
      "|United Air Lines Inc.                    |6107           |\n",
      "|Envoy Air                                |5686           |\n",
      "|Spirit Air Lines                         |5661           |\n",
      "|Republic Airlines                        |5647           |\n",
      "|Mesa Airlines Inc.                       |4763           |\n",
      "|Allegiant Air                            |3829           |\n",
      "|Delta Air Lines Inc.                     |3631           |\n",
      "|JetBlue Airways                          |3299           |\n",
      "|Alaska Airlines Inc.                     |3217           |\n",
      "|Commutair Aka Champlain Enterprises, Inc.|2489           |\n",
      "|Air Wisconsin Airlines Corp              |2409           |\n",
      "|Comair Inc.                              |2254           |\n",
      "|GoJet Airlines, LLC d/b/a United Express |2134           |\n",
      "|Horizon Air                              |2096           |\n",
      "|Frontier Airlines Inc.                   |1929           |\n",
      "|Capital Cargo International              |1323           |\n",
      "|Endeavor Air Inc.                        |974            |\n",
      "+-----------------------------------------+---------------+\n",
      "only showing top 20 rows"
     ]
    }
   ],
   "source": [
    "#For 2021\n",
    "c = y21.groupBy(\"Airline\").sum(\"Cancelled\").withColumnRenamed(\"sum(Cancelled)\", \"Cancelled_Count\") \n",
    "c.sort(c.Cancelled_Count.desc()).show(truncate=False)"
   ]
  },
  {
   "cell_type": "markdown",
   "id": "c73b8c99",
   "metadata": {},
   "source": [
    "### Analysing state wise cancellations before and during the pandemic"
   ]
  },
  {
   "cell_type": "code",
   "execution_count": 31,
   "id": "39adc146",
   "metadata": {},
   "outputs": [
    {
     "data": {
      "application/vnd.jupyter.widget-view+json": {
       "model_id": "d8c73a26bb124391848666b33578409f",
       "version_major": 2,
       "version_minor": 0
      },
      "text/plain": [
       "VBox()"
      ]
     },
     "metadata": {},
     "output_type": "display_data"
    },
    {
     "data": {
      "application/vnd.jupyter.widget-view+json": {
       "model_id": "",
       "version_major": 2,
       "version_minor": 0
      },
      "text/plain": [
       "FloatProgress(value=0.0, bar_style='info', description='Progress:', layout=Layout(height='25px', width='50%'),…"
      ]
     },
     "metadata": {},
     "output_type": "display_data"
    },
    {
     "name": "stdout",
     "output_type": "stream",
     "text": [
      "+--------------+---------------+\n",
      "|DestStateName |Cancelled_Count|\n",
      "+--------------+---------------+\n",
      "|Texas         |18607          |\n",
      "|Illinois      |17536          |\n",
      "|California    |14911          |\n",
      "|New York      |10276          |\n",
      "|Florida       |7981           |\n",
      "|Colorado      |7316           |\n",
      "|Virginia      |7031           |\n",
      "|North Carolina|6972           |\n",
      "|Pennsylvania  |5804           |\n",
      "|New Jersey    |5168           |\n",
      "|Missouri      |3306           |\n",
      "|Michigan      |3304           |\n",
      "|Massachusetts |3260           |\n",
      "|Arizona       |3018           |\n",
      "|Washington    |3000           |\n",
      "|Georgia       |2937           |\n",
      "|Ohio          |2784           |\n",
      "|Maryland      |2694           |\n",
      "|Tennessee     |2487           |\n",
      "|Nevada        |2423           |\n",
      "+--------------+---------------+\n",
      "only showing top 20 rows"
     ]
    }
   ],
   "source": [
    "\n",
    "d = y19.groupBy(\"DestStateName\").sum(\"Cancelled\").withColumnRenamed(\"sum(Cancelled)\", \"Cancelled_Count\") \n",
    "d.sort(d.Cancelled_Count.desc()).show(truncate=False)"
   ]
  },
  {
   "cell_type": "code",
   "execution_count": 33,
   "id": "ed5b8716",
   "metadata": {},
   "outputs": [
    {
     "data": {
      "application/vnd.jupyter.widget-view+json": {
       "model_id": "627600729990422a8b8e15ba52486348",
       "version_major": 2,
       "version_minor": 0
      },
      "text/plain": [
       "VBox()"
      ]
     },
     "metadata": {},
     "output_type": "display_data"
    },
    {
     "data": {
      "application/vnd.jupyter.widget-view+json": {
       "model_id": "",
       "version_major": 2,
       "version_minor": 0
      },
      "text/plain": [
       "FloatProgress(value=0.0, bar_style='info', description='Progress:', layout=Layout(height='25px', width='50%'),…"
      ]
     },
     "metadata": {},
     "output_type": "display_data"
    },
    {
     "name": "stdout",
     "output_type": "stream",
     "text": [
      "+--------------+---------------+\n",
      "|DestStateName |Cancelled_Count|\n",
      "+--------------+---------------+\n",
      "|Texas         |32786          |\n",
      "|California    |30523          |\n",
      "|Florida       |25562          |\n",
      "|Illinois      |20942          |\n",
      "|North Carolina|15935          |\n",
      "|New York      |14147          |\n",
      "|Colorado      |13453          |\n",
      "|Georgia       |13128          |\n",
      "|Virginia      |11319          |\n",
      "|Nevada        |10247          |\n",
      "|Pennsylvania  |9217           |\n",
      "|Arizona       |8479           |\n",
      "|Washington    |6681           |\n",
      "|Missouri      |6346           |\n",
      "|Tennessee     |6321           |\n",
      "|Michigan      |6187           |\n",
      "|New Jersey    |5218           |\n",
      "|Massachusetts |4939           |\n",
      "|Minnesota     |4897           |\n",
      "|Maryland      |4827           |\n",
      "+--------------+---------------+\n",
      "only showing top 20 rows"
     ]
    }
   ],
   "source": [
    "e = y20.groupBy(\"DestStateName\").sum(\"Cancelled\").withColumnRenamed(\"sum(Cancelled)\", \"Cancelled_Count\") \n",
    "e.sort(e.Cancelled_Count.desc()).show(truncate=False)"
   ]
  },
  {
   "cell_type": "code",
   "execution_count": 72,
   "id": "160a714f",
   "metadata": {},
   "outputs": [
    {
     "data": {
      "application/vnd.jupyter.widget-view+json": {
       "model_id": "77d8ae146eaa4348943170bf11037255",
       "version_major": 2,
       "version_minor": 0
      },
      "text/plain": [
       "VBox()"
      ]
     },
     "metadata": {},
     "output_type": "display_data"
    },
    {
     "data": {
      "application/vnd.jupyter.widget-view+json": {
       "model_id": "",
       "version_major": 2,
       "version_minor": 0
      },
      "text/plain": [
       "FloatProgress(value=0.0, bar_style='info', description='Progress:', layout=Layout(height='25px', width='50%'),…"
      ]
     },
     "metadata": {},
     "output_type": "display_data"
    },
    {
     "name": "stdout",
     "output_type": "stream",
     "text": [
      "+---------------+-----+---------+\n",
      "|submission_date|state|tot_cases|\n",
      "+---------------+-----+---------+\n",
      "|           null|   KS|   297229|\n",
      "|           null|   ND|   163565|\n",
      "|           null|   AS|       11|\n",
      "|           null|   AL|   841461|\n",
      "|           null|   AK|   251425|\n",
      "+---------------+-----+---------+\n",
      "only showing top 5 rows"
     ]
    }
   ],
   "source": [
    "covid = covid.select(\"submission_date\", \"state\", \"tot_cases\")\n",
    "covid.show(5)"
   ]
  },
  {
   "cell_type": "code",
   "execution_count": 38,
   "id": "478b0d42",
   "metadata": {},
   "outputs": [
    {
     "data": {
      "application/vnd.jupyter.widget-view+json": {
       "model_id": "56091d4463ed456d8421e9064de33c9c",
       "version_major": 2,
       "version_minor": 0
      },
      "text/plain": [
       "VBox()"
      ]
     },
     "metadata": {},
     "output_type": "display_data"
    },
    {
     "data": {
      "application/vnd.jupyter.widget-view+json": {
       "model_id": "",
       "version_major": 2,
       "version_minor": 0
      },
      "text/plain": [
       "FloatProgress(value=0.0, bar_style='info', description='Progress:', layout=Layout(height='25px', width='50%'),…"
      ]
     },
     "metadata": {},
     "output_type": "display_data"
    },
    {
     "name": "stdout",
     "output_type": "stream",
     "text": [
      "[('submission_date', 'string'), ('state', 'string'), ('tot_cases', 'int')]"
     ]
    }
   ],
   "source": [
    "covid.dtypes"
   ]
  },
  {
   "cell_type": "code",
   "execution_count": 67,
   "id": "5247a629",
   "metadata": {},
   "outputs": [
    {
     "data": {
      "application/vnd.jupyter.widget-view+json": {
       "model_id": "d2a6b2082e334417856add0cdd62e007",
       "version_major": 2,
       "version_minor": 0
      },
      "text/plain": [
       "VBox()"
      ]
     },
     "metadata": {},
     "output_type": "display_data"
    },
    {
     "data": {
      "application/vnd.jupyter.widget-view+json": {
       "model_id": "",
       "version_major": 2,
       "version_minor": 0
      },
      "text/plain": [
       "FloatProgress(value=0.0, bar_style='info', description='Progress:', layout=Layout(height='25px', width='50%'),…"
      ]
     },
     "metadata": {},
     "output_type": "display_data"
    }
   ],
   "source": [
    "df2 = covid.select(\n",
    "    'submission_date', 'state', 'tot_cases',\n",
    "    from_unixtime(unix_timestamp('submission_date', 'MM/dd/yyy')).alias('date')\n",
    ")"
   ]
  },
  {
   "cell_type": "code",
   "execution_count": 68,
   "id": "b90f3ea4",
   "metadata": {},
   "outputs": [
    {
     "data": {
      "application/vnd.jupyter.widget-view+json": {
       "model_id": "4a8f3acecbc9482ca1cae54c68e3df72",
       "version_major": 2,
       "version_minor": 0
      },
      "text/plain": [
       "VBox()"
      ]
     },
     "metadata": {},
     "output_type": "display_data"
    },
    {
     "data": {
      "application/vnd.jupyter.widget-view+json": {
       "model_id": "",
       "version_major": 2,
       "version_minor": 0
      },
      "text/plain": [
       "FloatProgress(value=0.0, bar_style='info', description='Progress:', layout=Layout(height='25px', width='50%'),…"
      ]
     },
     "metadata": {},
     "output_type": "display_data"
    },
    {
     "name": "stdout",
     "output_type": "stream",
     "text": [
      "+---------------+-----+---------+-------------------+\n",
      "|submission_date|state|tot_cases|               date|\n",
      "+---------------+-----+---------+-------------------+\n",
      "|     03/11/2021|   KS|   297229|2021-03-11 00:00:00|\n",
      "|     12/01/2021|   ND|   163565|2021-12-01 00:00:00|\n",
      "|     01/02/2022|   AS|       11|2022-01-02 00:00:00|\n",
      "|     11/22/2021|   AL|   841461|2021-11-22 00:00:00|\n",
      "|     05/30/2022|   AK|   251425|2022-05-30 00:00:00|\n",
      "+---------------+-----+---------+-------------------+\n",
      "only showing top 5 rows"
     ]
    }
   ],
   "source": [
    "df2.show(5)"
   ]
  },
  {
   "cell_type": "code",
   "execution_count": null,
   "id": "06bfc51b",
   "metadata": {},
   "outputs": [],
   "source": [
    "#Filtering only 2020 and 2021 year data for the pandemic"
   ]
  },
  {
   "cell_type": "code",
   "execution_count": 69,
   "id": "c89dcea0",
   "metadata": {},
   "outputs": [
    {
     "data": {
      "application/vnd.jupyter.widget-view+json": {
       "model_id": "f84e54951ac04dd78673bff4cb3d9dce",
       "version_major": 2,
       "version_minor": 0
      },
      "text/plain": [
       "VBox()"
      ]
     },
     "metadata": {},
     "output_type": "display_data"
    },
    {
     "data": {
      "application/vnd.jupyter.widget-view+json": {
       "model_id": "",
       "version_major": 2,
       "version_minor": 0
      },
      "text/plain": [
       "FloatProgress(value=0.0, bar_style='info', description='Progress:', layout=Layout(height='25px', width='50%'),…"
      ]
     },
     "metadata": {},
     "output_type": "display_data"
    },
    {
     "name": "stdout",
     "output_type": "stream",
     "text": [
      "+---------------+-----+---------+-------------------+----+\n",
      "|submission_date|state|tot_cases|               date|year|\n",
      "+---------------+-----+---------+-------------------+----+\n",
      "|     03/11/2021|   KS|   297229|2021-03-11 00:00:00|2021|\n",
      "|     12/01/2021|   ND|   163565|2021-12-01 00:00:00|2021|\n",
      "|     01/02/2022|   AS|       11|2022-01-02 00:00:00|2022|\n",
      "|     11/22/2021|   AL|   841461|2021-11-22 00:00:00|2021|\n",
      "|     05/30/2022|   AK|   251425|2022-05-30 00:00:00|2022|\n",
      "|     05/17/2020|  RMI|        0|2020-05-17 00:00:00|2020|\n",
      "|     04/03/2020|   ND|      173|2020-04-03 00:00:00|2020|\n",
      "|     09/04/2021|   PR|   173967|2021-09-04 00:00:00|2021|\n",
      "|     05/09/2021|   PW|        0|2021-05-09 00:00:00|2021|\n",
      "|     08/15/2022|   NM|   602931|2022-08-15 00:00:00|2022|\n",
      "|     01/01/2022|   UT|   636992|2022-01-01 00:00:00|2022|\n",
      "|     05/01/2021|   SD|   122688|2021-05-01 00:00:00|2021|\n",
      "|     04/03/2021|   OH|  1024011|2021-04-03 00:00:00|2021|\n",
      "|     10/16/2022|  NYC|  2908749|2022-10-16 00:00:00|2022|\n",
      "|     03/17/2022|   GU|    46695|2022-03-17 00:00:00|2022|\n",
      "|     07/08/2020|   OK|    25217|2020-07-08 00:00:00|2020|\n",
      "|     07/31/2020|   ND|     6602|2020-07-31 00:00:00|2020|\n",
      "|     08/11/2020|   GU|      449|2020-08-11 00:00:00|2020|\n",
      "|     02/25/2022|   SD|   235787|2022-02-25 00:00:00|2022|\n",
      "|     07/26/2021|   OK|   475578|2021-07-26 00:00:00|2021|\n",
      "+---------------+-----+---------+-------------------+----+\n",
      "only showing top 20 rows"
     ]
    }
   ],
   "source": [
    "df2 = df2.withColumn('year',year(df2.date))\n",
    "df2.show()"
   ]
  },
  {
   "cell_type": "code",
   "execution_count": 60,
   "id": "0866dd67",
   "metadata": {},
   "outputs": [
    {
     "data": {
      "application/vnd.jupyter.widget-view+json": {
       "model_id": "524fead31ba841aaafb5e9fd7798591f",
       "version_major": 2,
       "version_minor": 0
      },
      "text/plain": [
       "VBox()"
      ]
     },
     "metadata": {},
     "output_type": "display_data"
    },
    {
     "data": {
      "application/vnd.jupyter.widget-view+json": {
       "model_id": "",
       "version_major": 2,
       "version_minor": 0
      },
      "text/plain": [
       "FloatProgress(value=0.0, bar_style='info', description='Progress:', layout=Layout(height='25px', width='50%'),…"
      ]
     },
     "metadata": {},
     "output_type": "display_data"
    },
    {
     "name": "stdout",
     "output_type": "stream",
     "text": [
      "(60060, 5)"
     ]
    }
   ],
   "source": [
    "print((df2.count(), len(df2.columns)))"
   ]
  },
  {
   "cell_type": "code",
   "execution_count": 62,
   "id": "eed19ac8",
   "metadata": {},
   "outputs": [
    {
     "data": {
      "application/vnd.jupyter.widget-view+json": {
       "model_id": "8287119579564495ba954476b8ec04fb",
       "version_major": 2,
       "version_minor": 0
      },
      "text/plain": [
       "VBox()"
      ]
     },
     "metadata": {},
     "output_type": "display_data"
    },
    {
     "data": {
      "application/vnd.jupyter.widget-view+json": {
       "model_id": "",
       "version_major": 2,
       "version_minor": 0
      },
      "text/plain": [
       "FloatProgress(value=0.0, bar_style='info', description='Progress:', layout=Layout(height='25px', width='50%'),…"
      ]
     },
     "metadata": {},
     "output_type": "display_data"
    },
    {
     "name": "stdout",
     "output_type": "stream",
     "text": [
      "[('submission_date', 'string'), ('state', 'string'), ('tot_cases', 'int'), ('date', 'string'), ('year', 'int')]"
     ]
    }
   ],
   "source": [
    "df2.dtypes"
   ]
  },
  {
   "cell_type": "code",
   "execution_count": 70,
   "id": "ad52ee2e",
   "metadata": {},
   "outputs": [
    {
     "data": {
      "application/vnd.jupyter.widget-view+json": {
       "model_id": "9bb3e55462194c5894f2cbbaa5438dec",
       "version_major": 2,
       "version_minor": 0
      },
      "text/plain": [
       "VBox()"
      ]
     },
     "metadata": {},
     "output_type": "display_data"
    },
    {
     "data": {
      "application/vnd.jupyter.widget-view+json": {
       "model_id": "",
       "version_major": 2,
       "version_minor": 0
      },
      "text/plain": [
       "FloatProgress(value=0.0, bar_style='info', description='Progress:', layout=Layout(height='25px', width='50%'),…"
      ]
     },
     "metadata": {},
     "output_type": "display_data"
    },
    {
     "name": "stdout",
     "output_type": "stream",
     "text": [
      "+---------------+-----+---------+-------------------+----+\n",
      "|submission_date|state|tot_cases|               date|year|\n",
      "+---------------+-----+---------+-------------------+----+\n",
      "|     03/11/2021|   KS|   297229|2021-03-11 00:00:00|2021|\n",
      "|     12/01/2021|   ND|   163565|2021-12-01 00:00:00|2021|\n",
      "|     11/22/2021|   AL|   841461|2021-11-22 00:00:00|2021|\n",
      "|     05/17/2020|  RMI|        0|2020-05-17 00:00:00|2020|\n",
      "|     04/03/2020|   ND|      173|2020-04-03 00:00:00|2020|\n",
      "+---------------+-----+---------+-------------------+----+\n",
      "only showing top 5 rows"
     ]
    }
   ],
   "source": [
    "li=[2020,2021]\n",
    "data = df2.filter(df2.year.isin(li))\n",
    "data.show(5)\n"
   ]
  },
  {
   "cell_type": "markdown",
   "id": "c20cb5c1",
   "metadata": {},
   "source": [
    "### State-wise covid cases"
   ]
  },
  {
   "cell_type": "code",
   "execution_count": 74,
   "id": "891dc32c",
   "metadata": {},
   "outputs": [
    {
     "data": {
      "application/vnd.jupyter.widget-view+json": {
       "model_id": "71fae887e5a74d89a42e7e9bb868e3c8",
       "version_major": 2,
       "version_minor": 0
      },
      "text/plain": [
       "VBox()"
      ]
     },
     "metadata": {},
     "output_type": "display_data"
    },
    {
     "data": {
      "application/vnd.jupyter.widget-view+json": {
       "model_id": "",
       "version_major": 2,
       "version_minor": 0
      },
      "text/plain": [
       "FloatProgress(value=0.0, bar_style='info', description='Progress:', layout=Layout(height='25px', width='50%'),…"
      ]
     },
     "metadata": {},
     "output_type": "display_data"
    },
    {
     "name": "stdout",
     "output_type": "stream",
     "text": [
      "+----+-----+-----------+\n",
      "|year|state|total_cases|\n",
      "+----+-----+-----------+\n",
      "|2021|CA   |1472475446 |\n",
      "|2021|TX   |1191617013 |\n",
      "|2021|FL   |975849918  |\n",
      "|2021|IL   |526709410  |\n",
      "|2021|GA   |457894070  |\n",
      "|2021|PA   |457469178  |\n",
      "|2021|OH   |442495546  |\n",
      "|2021|NY   |431719701  |\n",
      "|2021|NC   |402933940  |\n",
      "|2021|MI   |373501215  |\n",
      "|2021|NJ   |370909011  |\n",
      "|2021|TN   |354156998  |\n",
      "|2021|AZ   |350452837  |\n",
      "|2021|NYC  |345747620  |\n",
      "|2021|IN   |298637568  |\n",
      "|2021|WI   |267338308  |\n",
      "|2021|VA   |263816216  |\n",
      "|2021|MA   |263687704  |\n",
      "|2021|MO   |250277309  |\n",
      "|2021|SC   |244123204  |\n",
      "+----+-----+-----------+\n",
      "only showing top 20 rows"
     ]
    }
   ],
   "source": [
    "f = data.groupBy(\"year\",\"state\").sum(\"tot_cases\").withColumnRenamed(\"sum(tot_cases)\", \"total_cases\") \n",
    "f.sort(f.total_cases.desc()).show(truncate=False)"
   ]
  },
  {
   "cell_type": "markdown",
   "id": "3945ea1b",
   "metadata": {},
   "source": [
    "### Monthly Frequency of Flights Analysis "
   ]
  },
  {
   "cell_type": "code",
   "execution_count": 38,
   "id": "3f9624d5",
   "metadata": {},
   "outputs": [
    {
     "data": {
      "application/vnd.jupyter.widget-view+json": {
       "model_id": "1780e6f147bd4d9ca2944f25166be330",
       "version_major": 2,
       "version_minor": 0
      },
      "text/plain": [
       "VBox()"
      ]
     },
     "metadata": {},
     "output_type": "display_data"
    },
    {
     "data": {
      "application/vnd.jupyter.widget-view+json": {
       "model_id": "",
       "version_major": 2,
       "version_minor": 0
      },
      "text/plain": [
       "FloatProgress(value=0.0, bar_style='info', description='Progress:', layout=Layout(height='25px', width='50%'),…"
      ]
     },
     "metadata": {},
     "output_type": "display_data"
    },
    {
     "name": "stdout",
     "output_type": "stream",
     "text": [
      "+-----+----------------------+\n",
      "|Month|2019_flights_frequency|\n",
      "+-----+----------------------+\n",
      "|    1|                638649|\n",
      "|    2|                582966|\n",
      "|    3|                689221|\n",
      "|    4|                668259|\n",
      "|    5|                694311|\n",
      "|    6|                694469|\n",
      "|    7|                717684|\n",
      "|    8|                717456|\n",
      "|    9|                660712|\n",
      "|   10|                692944|\n",
      "|   11|                655072|\n",
      "|   12|                679941|\n",
      "+-----+----------------------+"
     ]
    }
   ],
   "source": [
    "monthly_19 = y19.groupBy('Month').count().withColumnRenamed(\"count\", \"2019_flights_frequency\")\n",
    "\n",
    "monthly_19 = monthly_19.sort(\"Month\")\n",
    "monthly_19.show()"
   ]
  },
  {
   "cell_type": "code",
   "execution_count": 39,
   "id": "175f4ce8",
   "metadata": {},
   "outputs": [
    {
     "data": {
      "application/vnd.jupyter.widget-view+json": {
       "model_id": "b19230990dd141fe8a72f6b79c181a07",
       "version_major": 2,
       "version_minor": 0
      },
      "text/plain": [
       "VBox()"
      ]
     },
     "metadata": {},
     "output_type": "display_data"
    },
    {
     "data": {
      "application/vnd.jupyter.widget-view+json": {
       "model_id": "",
       "version_major": 2,
       "version_minor": 0
      },
      "text/plain": [
       "FloatProgress(value=0.0, bar_style='info', description='Progress:', layout=Layout(height='25px', width='50%'),…"
      ]
     },
     "metadata": {},
     "output_type": "display_data"
    },
    {
     "name": "stdout",
     "output_type": "stream",
     "text": [
      "+-----+----------------------+\n",
      "|Month|2020_flights_frequency|\n",
      "+-----+----------------------+\n",
      "|    1|                660556|\n",
      "|    2|                623103|\n",
      "|    3|                701274|\n",
      "|    4|                331238|\n",
      "|    5|                192412|\n",
      "+-----+----------------------+\n",
      "only showing top 5 rows"
     ]
    }
   ],
   "source": [
    "monthly_20 = y20.groupBy('Month').count().withColumnRenamed(\"count\", \"2020_flights_frequency\")\n",
    "monthly_20 = monthly_20.sort(\"Month\")\n",
    "monthly_20.show(5)"
   ]
  },
  {
   "cell_type": "code",
   "execution_count": 40,
   "id": "ec8086d9",
   "metadata": {},
   "outputs": [
    {
     "data": {
      "application/vnd.jupyter.widget-view+json": {
       "model_id": "853d6206b6404cf99d991049a27b2f42",
       "version_major": 2,
       "version_minor": 0
      },
      "text/plain": [
       "VBox()"
      ]
     },
     "metadata": {},
     "output_type": "display_data"
    },
    {
     "data": {
      "application/vnd.jupyter.widget-view+json": {
       "model_id": "",
       "version_major": 2,
       "version_minor": 0
      },
      "text/plain": [
       "FloatProgress(value=0.0, bar_style='info', description='Progress:', layout=Layout(height='25px', width='50%'),…"
      ]
     },
     "metadata": {},
     "output_type": "display_data"
    }
   ],
   "source": [
    "monthly_21 = y21.groupBy('Month').count().withColumnRenamed(\"count\", \"2021_flights_frequency\")\n",
    "monthly_21 = monthly_21.sort(\"Month\")"
   ]
  },
  {
   "cell_type": "code",
   "execution_count": 41,
   "id": "44e9906f",
   "metadata": {},
   "outputs": [
    {
     "data": {
      "application/vnd.jupyter.widget-view+json": {
       "model_id": "a29ce0faf9c7484e99304937f5b2e2cc",
       "version_major": 2,
       "version_minor": 0
      },
      "text/plain": [
       "VBox()"
      ]
     },
     "metadata": {},
     "output_type": "display_data"
    },
    {
     "data": {
      "application/vnd.jupyter.widget-view+json": {
       "model_id": "",
       "version_major": 2,
       "version_minor": 0
      },
      "text/plain": [
       "FloatProgress(value=0.0, bar_style='info', description='Progress:', layout=Layout(height='25px', width='50%'),…"
      ]
     },
     "metadata": {},
     "output_type": "display_data"
    }
   ],
   "source": [
    "#Joining all years data for flight frequency\n",
    "all_months_data = monthly_19.join(monthly_20,monthly_19.Month ==  monthly_20.Month,\"inner\").drop(monthly_20.Month)\n",
    "all_months_data = all_months_data.join(monthly_21,all_months_data.Month ==  monthly_21.Month,\"inner\").drop(monthly_21.Month)\n"
   ]
  },
  {
   "cell_type": "code",
   "execution_count": 52,
   "id": "124d9765",
   "metadata": {},
   "outputs": [
    {
     "data": {
      "application/vnd.jupyter.widget-view+json": {
       "model_id": "9a94c4cee82540518f807f10af839b32",
       "version_major": 2,
       "version_minor": 0
      },
      "text/plain": [
       "VBox()"
      ]
     },
     "metadata": {},
     "output_type": "display_data"
    },
    {
     "data": {
      "application/vnd.jupyter.widget-view+json": {
       "model_id": "",
       "version_major": 2,
       "version_minor": 0
      },
      "text/plain": [
       "FloatProgress(value=0.0, bar_style='info', description='Progress:', layout=Layout(height='25px', width='50%'),…"
      ]
     },
     "metadata": {},
     "output_type": "display_data"
    },
    {
     "name": "stdout",
     "output_type": "stream",
     "text": [
      "+-----+------+------+------+\n",
      "|Month|  2019|  2020|  2021|\n",
      "+-----+------+------+------+\n",
      "|    1|638649|660556|379384|\n",
      "|    2|582966|623103|350170|\n",
      "|    3|689221|701274|467126|\n",
      "|    4|668259|331238|473936|\n",
      "|    5|694311|192412|520059|\n",
      "+-----+------+------+------+\n",
      "only showing top 5 rows"
     ]
    }
   ],
   "source": [
    "all_months_data.show(5)"
   ]
  },
  {
   "cell_type": "code",
   "execution_count": 55,
   "id": "a6cf62d0",
   "metadata": {},
   "outputs": [
    {
     "data": {
      "application/vnd.jupyter.widget-view+json": {
       "model_id": "9b247323aee342a7add5041378be788d",
       "version_major": 2,
       "version_minor": 0
      },
      "text/plain": [
       "VBox()"
      ]
     },
     "metadata": {},
     "output_type": "display_data"
    },
    {
     "data": {
      "application/vnd.jupyter.widget-view+json": {
       "model_id": "",
       "version_major": 2,
       "version_minor": 0
      },
      "text/plain": [
       "FloatProgress(value=0.0, bar_style='info', description='Progress:', layout=Layout(height='25px', width='50%'),…"
      ]
     },
     "metadata": {},
     "output_type": "display_data"
    }
   ],
   "source": [
    "#Writing it to S3 to use it for reporting and visualization\n",
    "all_months_data.repartition(1).write.csv(\"s3://airlinebdai/all_months_192021.csv\")"
   ]
  },
  {
   "cell_type": "code",
   "execution_count": 37,
   "id": "2972de21",
   "metadata": {},
   "outputs": [
    {
     "data": {
      "application/vnd.jupyter.widget-view+json": {
       "model_id": "423ecc30798c4e1980c4f2a2b19f6c0f",
       "version_major": 2,
       "version_minor": 0
      },
      "text/plain": [
       "VBox()"
      ]
     },
     "metadata": {},
     "output_type": "display_data"
    },
    {
     "data": {
      "application/vnd.jupyter.widget-view+json": {
       "model_id": "",
       "version_major": 2,
       "version_minor": 0
      },
      "text/plain": [
       "FloatProgress(value=0.0, bar_style='info', description='Progress:', layout=Layout(height='25px', width='50%'),…"
      ]
     },
     "metadata": {},
     "output_type": "display_data"
    }
   ],
   "source": [
    "#Feature engineering for Delayed column\n",
    "\n",
    "y19 = y19.withColumn('Delayed', when(col('DepDelay')>0, 1).otherwise(0))\n",
    "\n",
    "y20 = y20.withColumn('Delayed', when(col('DepDelay')>0, 1).otherwise(0))\n",
    "\n",
    "y21 = y21.withColumn('Delayed', when(col('DepDelay')>0, 1).otherwise(0))\n"
   ]
  },
  {
   "cell_type": "markdown",
   "id": "6664cb1e",
   "metadata": {},
   "source": [
    "### Flight Cancellations, Delays before and during the pandemic"
   ]
  },
  {
   "cell_type": "code",
   "execution_count": 49,
   "id": "ca283b0d",
   "metadata": {},
   "outputs": [
    {
     "data": {
      "application/vnd.jupyter.widget-view+json": {
       "model_id": "34f23be897d74ae1b29f31122564ba07",
       "version_major": 2,
       "version_minor": 0
      },
      "text/plain": [
       "VBox()"
      ]
     },
     "metadata": {},
     "output_type": "display_data"
    },
    {
     "data": {
      "application/vnd.jupyter.widget-view+json": {
       "model_id": "",
       "version_major": 2,
       "version_minor": 0
      },
      "text/plain": [
       "FloatProgress(value=0.0, bar_style='info', description='Progress:', layout=Layout(height='25px', width='50%'),…"
      ]
     },
     "metadata": {},
     "output_type": "display_data"
    }
   ],
   "source": [
    "#Filtering and counting flight cancellations, delays, diversions\n",
    "can_flights_19=y19.filter(y19.Cancelled == 1).groupBy('Month').count().withColumnRenamed(\"count\", \"Cancelled_count\")\n",
    "div_flights_19=y19.filter(y19.Diverted == 1).groupBy('Month').count().withColumnRenamed(\"count\", \"Diverted_count\")\n",
    "delay_flights_19=y19.filter(y19.Delayed == 1).groupBy('Month').count().withColumnRenamed(\"count\", \"Delayed_count\")\n",
    "\n",
    "\n"
   ]
  },
  {
   "cell_type": "code",
   "execution_count": 50,
   "id": "f58d4ca6",
   "metadata": {},
   "outputs": [
    {
     "data": {
      "application/vnd.jupyter.widget-view+json": {
       "model_id": "b9f5ddee1db84c96a1c0a7b4fc2f29a4",
       "version_major": 2,
       "version_minor": 0
      },
      "text/plain": [
       "VBox()"
      ]
     },
     "metadata": {},
     "output_type": "display_data"
    },
    {
     "data": {
      "application/vnd.jupyter.widget-view+json": {
       "model_id": "",
       "version_major": 2,
       "version_minor": 0
      },
      "text/plain": [
       "FloatProgress(value=0.0, bar_style='info', description='Progress:', layout=Layout(height='25px', width='50%'),…"
      ]
     },
     "metadata": {},
     "output_type": "display_data"
    },
    {
     "name": "stdout",
     "output_type": "stream",
     "text": [
      "+----------------------+-----+---------------+--------------+-------------+\n",
      "|2019_flights_frequency|Month|Cancelled_count|Diverted_count|Delayed_count|\n",
      "+----------------------+-----+---------------+--------------+-------------+\n",
      "|                679941|   12|           7176|          1549|       257291|\n",
      "|                638649|    1|          19550|          1450|       201140|\n",
      "|                694469|    6|          14667|          2778|       276949|\n",
      "|                689221|    3|          13562|          1130|       223016|\n",
      "|                668259|    4|          15726|          1616|       212523|\n",
      "|                717456|    8|          12903|          1973|       251544|\n",
      "|                655072|   11|           5561|          1043|       189232|\n",
      "|                694311|    5|          14146|          2234|       241304|\n",
      "|                582966|    2|          18352|          1787|       214337|\n",
      "|                717684|    7|          14808|          2517|       257921|\n",
      "|                660712|    9|          11045|          1398|       175202|\n",
      "|                692944|   10|           6133|          1316|       212526|\n",
      "+----------------------+-----+---------------+--------------+-------------+"
     ]
    }
   ],
   "source": [
    "all_conditions_19 = monthly_19.join(can_flights_19, monthly_19.Month == can_flights_19.Month, \"left\").drop(monthly_19.Month)\n",
    "all_conditions_19 = all_conditions_19.join(div_flights_19, all_conditions_19.Month == div_flights_19.Month,  \"left\").drop(div_flights_19.Month)\n",
    "all_conditions_19 = all_conditions_19.join(delay_flights_19, all_conditions_19.Month == delay_flights_19.Month,  \"left\").drop(delay_flights_19.Month)\n",
    "all_conditions_19.fillna(value = 0)\n",
    "all_conditions_19.show()"
   ]
  },
  {
   "cell_type": "code",
   "execution_count": 51,
   "id": "915a0b56",
   "metadata": {},
   "outputs": [
    {
     "data": {
      "application/vnd.jupyter.widget-view+json": {
       "model_id": "3854f20ed8464d89a7ba0551c484f3b7",
       "version_major": 2,
       "version_minor": 0
      },
      "text/plain": [
       "VBox()"
      ]
     },
     "metadata": {},
     "output_type": "display_data"
    },
    {
     "data": {
      "application/vnd.jupyter.widget-view+json": {
       "model_id": "",
       "version_major": 2,
       "version_minor": 0
      },
      "text/plain": [
       "FloatProgress(value=0.0, bar_style='info', description='Progress:', layout=Layout(height='25px', width='50%'),…"
      ]
     },
     "metadata": {},
     "output_type": "display_data"
    },
    {
     "name": "stdout",
     "output_type": "stream",
     "text": [
      "+----------------------+-----+---------------+--------------+-------------+\n",
      "|2020_flights_frequency|Month|Cancelled_count|Diverted_count|Delayed_count|\n",
      "+----------------------+-----+---------------+--------------+-------------+\n",
      "|                397802|   12|           4253|           632|        84006|\n",
      "|                660556|    1|           8416|          1290|       181463|\n",
      "|                237264|    6|           1030|           373|        37491|\n",
      "|                701274|    3|         118276|           874|       107348|\n",
      "|                331238|    4|         136848|           315|        19009|\n",
      "|                398470|    8|           4327|           858|        58365|\n",
      "|                389587|   11|           2106|           591|        55431|\n",
      "|                192412|    5|          12261|           373|        21333|\n",
      "|                623103|    2|           6095|          1182|       172142|\n",
      "|                370859|    7|           2926|           857|        57203|\n",
      "|                345294|    9|           2523|           478|        48290|\n",
      "|                374538|   10|           1994|           588|        60210|\n",
      "+----------------------+-----+---------------+--------------+-------------+"
     ]
    }
   ],
   "source": [
    "#For year 2020\n",
    "can_flights_20=y20.filter(y20.Cancelled == 1).groupBy('Month').count().withColumnRenamed(\"count\", \"Cancelled_count\")\n",
    "div_flights_20=y20.filter(y20.Diverted == 1).groupBy('Month').count().withColumnRenamed(\"count\", \"Diverted_count\")\n",
    "delay_flights_20=y20.filter(y20.Delayed == 1).groupBy('Month').count().withColumnRenamed(\"count\", \"Delayed_count\")\n",
    "\n",
    "\n",
    "\n",
    "all_conditions_20 = monthly_20.join(can_flights_20, monthly_20.Month == can_flights_20.Month, \"left\").drop(monthly_20.Month)\n",
    "all_conditions_20 = all_conditions_20.join(div_flights_20, all_conditions_20.Month == div_flights_20.Month,  \"left\").drop(div_flights_20.Month)\n",
    "all_conditions_20 = all_conditions_20.join(delay_flights_20, all_conditions_20.Month == delay_flights_20.Month,  \"left\").drop(delay_flights_20.Month)\n",
    "all_conditions_20.fillna(value = 0)\n",
    "all_conditions_20.show()"
   ]
  },
  {
   "cell_type": "code",
   "execution_count": 52,
   "id": "e5ebddd1",
   "metadata": {},
   "outputs": [
    {
     "data": {
      "application/vnd.jupyter.widget-view+json": {
       "model_id": "4da695cff24a43be912d814a4ff0980f",
       "version_major": 2,
       "version_minor": 0
      },
      "text/plain": [
       "VBox()"
      ]
     },
     "metadata": {},
     "output_type": "display_data"
    },
    {
     "data": {
      "application/vnd.jupyter.widget-view+json": {
       "model_id": "",
       "version_major": 2,
       "version_minor": 0
      },
      "text/plain": [
       "FloatProgress(value=0.0, bar_style='info', description='Progress:', layout=Layout(height='25px', width='50%'),…"
      ]
     },
     "metadata": {},
     "output_type": "display_data"
    },
    {
     "name": "stdout",
     "output_type": "stream",
     "text": [
      "+----------------------+-----+---------------+--------------+-------------+\n",
      "|2021_flights_frequency|Month|Cancelled_count|Diverted_count|Delayed_count|\n",
      "+----------------------+-----+---------------+--------------+-------------+\n",
      "|                580238|   12|          13773|          1453|       234952|\n",
      "|                379384|    1|           4155|           620|        65834|\n",
      "|                573779|    6|           9196|          1913|       237842|\n",
      "|                467126|    3|           5904|           807|       103462|\n",
      "|                473936|    4|           2561|           766|       111306|\n",
      "|                611494|    8|          18734|          2174|       238882|\n",
      "|                576693|   11|           3559|           765|       193797|\n",
      "|                520059|    5|           2350|          1319|       150111|\n",
      "|                350170|    2|          20201|           696|        78017|\n",
      "|                615703|    7|          10195|          2359|       266386|\n",
      "|                567916|    9|           7776|           984|       164565|\n",
      "|                595373|   10|          12614|          1126|       210536|\n",
      "+----------------------+-----+---------------+--------------+-------------+"
     ]
    }
   ],
   "source": [
    "#For year 2021\n",
    "can_flights_21=y21.filter(y21.Cancelled == 1).groupBy('Month').count().withColumnRenamed(\"count\", \"Cancelled_count\")\n",
    "div_flights_21=y21.filter(y21.Diverted == 1).groupBy('Month').count().withColumnRenamed(\"count\", \"Diverted_count\")\n",
    "delay_flights_21=y21.filter(y21.Delayed == 1).groupBy('Month').count().withColumnRenamed(\"count\", \"Delayed_count\")\n",
    "\n",
    "\n",
    "\n",
    "all_conditions_21 = monthly_21.join(can_flights_21, monthly_21.Month == can_flights_21.Month, \"left\").drop(monthly_21.Month)\n",
    "all_conditions_21 = all_conditions_21.join(div_flights_21, all_conditions_21.Month == div_flights_21.Month,  \"left\").drop(div_flights_21.Month)\n",
    "all_conditions_21 = all_conditions_21.join(delay_flights_21, all_conditions_21.Month == delay_flights_21.Month,  \"left\").drop(delay_flights_21.Month)\n",
    "all_conditions_21.fillna(value = 0)\n",
    "all_conditions_21.show()"
   ]
  },
  {
   "cell_type": "code",
   "execution_count": 53,
   "id": "8b0a2062",
   "metadata": {},
   "outputs": [
    {
     "data": {
      "application/vnd.jupyter.widget-view+json": {
       "model_id": "bfac1ee8539a4d1c8c2d71ee119e6090",
       "version_major": 2,
       "version_minor": 0
      },
      "text/plain": [
       "VBox()"
      ]
     },
     "metadata": {},
     "output_type": "display_data"
    },
    {
     "data": {
      "application/vnd.jupyter.widget-view+json": {
       "model_id": "",
       "version_major": 2,
       "version_minor": 0
      },
      "text/plain": [
       "FloatProgress(value=0.0, bar_style='info', description='Progress:', layout=Layout(height='25px', width='50%'),…"
      ]
     },
     "metadata": {},
     "output_type": "display_data"
    }
   ],
   "source": [
    "#Exporting the three dataframes to S3 to further visualize locally \n",
    "\n",
    "all_conditions_19.repartition(1).write.csv(\"s3://airlinebdai/all_conditions_19.csv\")\n",
    "all_conditions_20.repartition(1).write.csv(\"s3://airlinebdai/all_conditions_20.csv\")\n",
    "all_conditions_21.repartition(1).write.csv(\"s3://airlinebdai/all_conditions_21.csv\")"
   ]
  },
  {
   "cell_type": "markdown",
   "id": "1779d528",
   "metadata": {},
   "source": [
    "### Analyzing covid and flights "
   ]
  },
  {
   "cell_type": "code",
   "execution_count": 61,
   "id": "1d8228ff",
   "metadata": {},
   "outputs": [
    {
     "data": {
      "application/vnd.jupyter.widget-view+json": {
       "model_id": "76728b164d2543cebc479126a2cb9416",
       "version_major": 2,
       "version_minor": 0
      },
      "text/plain": [
       "VBox()"
      ]
     },
     "metadata": {},
     "output_type": "display_data"
    },
    {
     "data": {
      "application/vnd.jupyter.widget-view+json": {
       "model_id": "",
       "version_major": 2,
       "version_minor": 0
      },
      "text/plain": [
       "FloatProgress(value=0.0, bar_style='info', description='Progress:', layout=Layout(height='25px', width='50%'),…"
      ]
     },
     "metadata": {},
     "output_type": "display_data"
    }
   ],
   "source": [
    "#joining 2021 and 2020 data with covid data\n",
    "covid_all = covid.join(y20,covid.submission_date ==  y20.FlightDate,\"inner\").drop(y20.FlightDate)\n",
    "covid_all = covid_all.join(y21,covid_all.submission_date ==  y21.FlightDate,\"inner\").drop(y21.FlightDate)"
   ]
  },
  {
   "cell_type": "code",
   "execution_count": 80,
   "id": "be9f31a7",
   "metadata": {},
   "outputs": [
    {
     "data": {
      "application/vnd.jupyter.widget-view+json": {
       "model_id": "68d57b1fc5a44ebe97e338e355a401bc",
       "version_major": 2,
       "version_minor": 0
      },
      "text/plain": [
       "VBox()"
      ]
     },
     "metadata": {},
     "output_type": "display_data"
    },
    {
     "data": {
      "application/vnd.jupyter.widget-view+json": {
       "model_id": "",
       "version_major": 2,
       "version_minor": 0
      },
      "text/plain": [
       "FloatProgress(value=0.0, bar_style='info', description='Progress:', layout=Layout(height='25px', width='50%'),…"
      ]
     },
     "metadata": {},
     "output_type": "display_data"
    }
   ],
   "source": [
    "#Function to convert to datetime\n",
    "func =  udf (lambda x: datetime.strptime(x, '%m/%d/%Y'), DateType())\n",
    "\n",
    "covid1 = covid.withColumn('submission_date', func(col('submission_date')))"
   ]
  },
  {
   "cell_type": "code",
   "execution_count": 81,
   "id": "c8b1e987",
   "metadata": {},
   "outputs": [
    {
     "data": {
      "application/vnd.jupyter.widget-view+json": {
       "model_id": "f581a4e78564485e88e4b98812730e4d",
       "version_major": 2,
       "version_minor": 0
      },
      "text/plain": [
       "VBox()"
      ]
     },
     "metadata": {},
     "output_type": "display_data"
    },
    {
     "data": {
      "application/vnd.jupyter.widget-view+json": {
       "model_id": "",
       "version_major": 2,
       "version_minor": 0
      },
      "text/plain": [
       "FloatProgress(value=0.0, bar_style='info', description='Progress:', layout=Layout(height='25px', width='50%'),…"
      ]
     },
     "metadata": {},
     "output_type": "display_data"
    },
    {
     "name": "stdout",
     "output_type": "stream",
     "text": [
      "+---------------+-----+---------+----------+----------+--------+---------+---------+----------+----------+---------+----------+--------------------+-------------+--------------+\n",
      "|submission_date|state|tot_cases|conf_cases|prob_cases|new_case|pnew_case|tot_death|conf_death|prob_death|new_death|pnew_death|          created_at|consent_cases|consent_deaths|\n",
      "+---------------+-----+---------+----------+----------+--------+---------+---------+----------+----------+---------+----------+--------------------+-------------+--------------+\n",
      "|     2021-03-11|   KS|   297229|    241035|     56194|       0|        0|     4851|      null|      null|        0|         0|03/12/2021 03:20:...|        Agree|           N/A|\n",
      "+---------------+-----+---------+----------+----------+--------+---------+---------+----------+----------+---------+----------+--------------------+-------------+--------------+\n",
      "only showing top 1 row"
     ]
    }
   ],
   "source": [
    "covid1.show(1)"
   ]
  },
  {
   "cell_type": "code",
   "execution_count": 25,
   "id": "ae888c0f",
   "metadata": {},
   "outputs": [
    {
     "data": {
      "application/vnd.jupyter.widget-view+json": {
       "model_id": "81c84ae21108421fb35eb48dcefb41b9",
       "version_major": 2,
       "version_minor": 0
      },
      "text/plain": [
       "VBox()"
      ]
     },
     "metadata": {},
     "output_type": "display_data"
    },
    {
     "data": {
      "application/vnd.jupyter.widget-view+json": {
       "model_id": "",
       "version_major": 2,
       "version_minor": 0
      },
      "text/plain": [
       "FloatProgress(value=0.0, bar_style='info', description='Progress:', layout=Layout(height='25px', width='50%'),…"
      ]
     },
     "metadata": {},
     "output_type": "display_data"
    },
    {
     "name": "stdout",
     "output_type": "stream",
     "text": [
      "+---------------+--------------+---------------+----+-----+\n",
      "|submission_date|sum(tot_cases)|sum(conf_cases)|year|month|\n",
      "+---------------+--------------+---------------+----+-----+\n",
      "|     2022-08-02|      91554444|       50898563|2022|    8|\n",
      "|     2022-05-26|      83766799|       46812055|2022|    5|\n",
      "+---------------+--------------+---------------+----+-----+\n",
      "only showing top 2 rows"
     ]
    }
   ],
   "source": [
    "#Function to convert to datetype \n",
    "func =  udf (lambda x: datetime.strptime(x, '%m/%d/%Y'), DateType())\n",
    "covid = covid.select(\"submission_date\", \"tot_cases\", \"conf_cases\")\n",
    "covid = covid.withColumn(\"submission_date\",func(col('submission_date')))\n",
    "\n",
    "#Monthly covid cases\n",
    "covid_1 = covid.groupBy('submission_date').sum()\n",
    "\n",
    "covid_1 = covid_1.withColumn('year',year(covid_1.submission_date))\n",
    "covid_1 = covid_1.withColumn('month',month(covid_1.submission_date))\n",
    "covid_1.show(2)"
   ]
  },
  {
   "cell_type": "code",
   "execution_count": 33,
   "id": "3e8efb3a",
   "metadata": {},
   "outputs": [
    {
     "data": {
      "application/vnd.jupyter.widget-view+json": {
       "model_id": "9ac5fddb0f884db1b8ab21429f46b1d4",
       "version_major": 2,
       "version_minor": 0
      },
      "text/plain": [
       "VBox()"
      ]
     },
     "metadata": {},
     "output_type": "display_data"
    },
    {
     "data": {
      "application/vnd.jupyter.widget-view+json": {
       "model_id": "",
       "version_major": 2,
       "version_minor": 0
      },
      "text/plain": [
       "FloatProgress(value=0.0, bar_style='info', description='Progress:', layout=Layout(height='25px', width='50%'),…"
      ]
     },
     "metadata": {},
     "output_type": "display_data"
    }
   ],
   "source": [
    "total_cases_21 = covid_1.filter(covid_1.year == 2021)\n",
    "total_cases_21 = total_cases_21.groupby('month').mean('sum(tot_cases)').withColumnRenamed('avg(sum(tot_cases))', 'cases_2021')\n",
    "\n",
    "\n",
    "total_cases_20 = covid_1.filter(covid_1.year == 2020)\n",
    "total_cases_20 = total_cases_20.groupby('month').mean('sum(tot_cases)').withColumnRenamed('avg(sum(tot_cases))', 'cases_2020')\n",
    "\n"
   ]
  },
  {
   "cell_type": "markdown",
   "id": "d3afb51b",
   "metadata": {},
   "source": [
    "#### Monthly cases for 2020 and 2021"
   ]
  },
  {
   "cell_type": "code",
   "execution_count": 36,
   "id": "2aca237c",
   "metadata": {},
   "outputs": [
    {
     "data": {
      "application/vnd.jupyter.widget-view+json": {
       "model_id": "72bd40f280e144b5b5bfddfce9856607",
       "version_major": 2,
       "version_minor": 0
      },
      "text/plain": [
       "VBox()"
      ]
     },
     "metadata": {},
     "output_type": "display_data"
    },
    {
     "data": {
      "application/vnd.jupyter.widget-view+json": {
       "model_id": "",
       "version_major": 2,
       "version_minor": 0
      },
      "text/plain": [
       "FloatProgress(value=0.0, bar_style='info', description='Progress:', layout=Layout(height='25px', width='50%'),…"
      ]
     },
     "metadata": {},
     "output_type": "display_data"
    },
    {
     "name": "stdout",
     "output_type": "stream",
     "text": [
      "+--------------------+-----+-------------------+\n",
      "|          cases_2021|month|         cases_2020|\n",
      "+--------------------+-----+-------------------+\n",
      "| 2.358491351612903E7|    1|                7.3|\n",
      "| 2.759076264285714E7|    2|  33.51724137931034|\n",
      "|2.9468835258064516E7|    3| 44893.354838709674|\n",
      "|3.1358997266666666E7|    4|  672149.1333333333|\n",
      "|3.2736336870967742E7|    5| 1488751.2258064516|\n",
      "|3.3303102866666667E7|    6| 2208468.7333333334|\n",
      "| 3.409814729032258E7|    7|  3666248.709677419|\n",
      "| 3.706526980645161E7|    8|  5437575.903225807|\n",
      "| 4.159162013333333E7|    9|  6729035.433333334|\n",
      "|4.4809639258064516E7|   10|  8203875.258064516|\n",
      "|4.7237491166666664E7|   11|       1.14503566E7|\n",
      "| 5.088725632258064E7|   12|1.709293793548387E7|\n",
      "+--------------------+-----+-------------------+"
     ]
    }
   ],
   "source": [
    "\n",
    "all_mnt_covid = total_cases_21.join(total_cases_20,total_cases_21.month ==  total_cases_20.month,\"left\").drop(total_cases_20.month)\n",
    "all_mnt_covid=all_mnt_covid.fillna(value = 0).sort('month')\n",
    "all_mnt_covid.show()"
   ]
  },
  {
   "cell_type": "markdown",
   "id": "ed79a430",
   "metadata": {},
   "source": [
    "### Airline Company Analysis"
   ]
  },
  {
   "cell_type": "code",
   "execution_count": 55,
   "id": "83eef8c9",
   "metadata": {},
   "outputs": [
    {
     "data": {
      "application/vnd.jupyter.widget-view+json": {
       "model_id": "e1ffd0093b534ad3bba621df4769835d",
       "version_major": 2,
       "version_minor": 0
      },
      "text/plain": [
       "VBox()"
      ]
     },
     "metadata": {},
     "output_type": "display_data"
    },
    {
     "data": {
      "application/vnd.jupyter.widget-view+json": {
       "model_id": "",
       "version_major": 2,
       "version_minor": 0
      },
      "text/plain": [
       "FloatProgress(value=0.0, bar_style='info', description='Progress:', layout=Layout(height='25px', width='50%'),…"
      ]
     },
     "metadata": {},
     "output_type": "display_data"
    },
    {
     "name": "stdout",
     "output_type": "stream",
     "text": [
      "<function <lambda> at 0x7f3a2277c170>"
     ]
    }
   ],
   "source": [
    "#Function for analysing airline wise delay, on time, cancellation counts\n",
    "def get_delay_descstates_df(df):\n",
    "    df_counts = df.groupby('Airline').agg(TotalFlightCounts = ('DepDelay', lambda x: x.count()),\n",
    "                                                     DelayDepCounts = ('DepDelay', lambda x: (x > 0).sum()),\n",
    "                                                     EarlyDepCounts = ('DepDelay', lambda x: (x < 0).sum()),\n",
    "                                                     OntimeDepCounts = ('DepDelay', lambda x: (x == 0).sum()),\n",
    "                                                     DelayArrCounts = ('ArrDelay', lambda x: (x > 0).sum()),\n",
    "                                                     EarlyArrCounts = ('ArrDelay', lambda x: (x < 0).sum()),\n",
    "                                                     OntimeArrCounts = ('ArrDelay', lambda x: (x == 0).sum()))\n",
    "    \n",
    "    df_counts['DelayDepRatio'] = df_counts['DelayDepCounts'] / df_counts['TotalFlightCounts']\n",
    "    df_counts['EarlyDepRatio'] = df_counts['EarlyDepCounts'] / df_counts['TotalFlightCounts']\n",
    "    df_counts['OntimeDepRatio'] = df_counts['OntimeDepCounts'] / df_counts['TotalFlightCounts']\n",
    "    df_counts['DelayArrRatio'] = df_counts['DelayArrCounts'] / df_counts['TotalFlightCounts']\n",
    "    df_counts['EarlyArrRatio'] = df_counts['EarlyArrCounts'] / df_counts['TotalFlightCounts']\n",
    "    df_counts['OntimeArrRatio'] = df_counts['OntimeArrCounts'] / df_counts['TotalFlightCounts']\n",
    "    return df_counts\n",
    "delay = udf(lambda m: get_delay_descstates_df(m), StructType())\n",
    "spark.udf.register(\"delay\", delay)"
   ]
  },
  {
   "cell_type": "code",
   "execution_count": 58,
   "id": "ac5cd332",
   "metadata": {},
   "outputs": [
    {
     "data": {
      "application/vnd.jupyter.widget-view+json": {
       "model_id": "c6343225513a445092f38b073896a872",
       "version_major": 2,
       "version_minor": 0
      },
      "text/plain": [
       "VBox()"
      ]
     },
     "metadata": {},
     "output_type": "display_data"
    },
    {
     "data": {
      "application/vnd.jupyter.widget-view+json": {
       "model_id": "",
       "version_major": 2,
       "version_minor": 0
      },
      "text/plain": [
       "FloatProgress(value=0.0, bar_style='info', description='Progress:', layout=Layout(height='25px', width='50%'),…"
      ]
     },
     "metadata": {},
     "output_type": "display_data"
    }
   ],
   "source": [
    "#Running the above function\n",
    "cnt_cond = lambda cond: sum(when(cond, 1).otherwise(0))\n",
    "delaydepcounts =  merged.groupBy('Airline').agg(cnt_cond(col('DepDelay') > 0).alias('Number of Delayed Departures'))\n",
    "earlyontimedepcounts =  merged.groupBy('Airline').agg(cnt_cond(col('DepDelay') <= 0).alias('EarlyOntimeDepCounts'))\n",
    "delayarrcounts =  merged.groupBy('Airline').agg(cnt_cond(col('ArrDelay') > 0).alias('DelayArrCounts'))\n",
    "earlyontimearrcounts =  merged.groupBy('Airline').agg(cnt_cond(col('ArrDelay') <= 0).alias('EarlyOntimeArrCounts'))"
   ]
  },
  {
   "cell_type": "code",
   "execution_count": 109,
   "id": "0637c1e1",
   "metadata": {},
   "outputs": [
    {
     "data": {
      "application/vnd.jupyter.widget-view+json": {
       "model_id": "6d8da227668f429d98490ce63acb3605",
       "version_major": 2,
       "version_minor": 0
      },
      "text/plain": [
       "VBox()"
      ]
     },
     "metadata": {},
     "output_type": "display_data"
    },
    {
     "data": {
      "application/vnd.jupyter.widget-view+json": {
       "model_id": "",
       "version_major": 2,
       "version_minor": 0
      },
      "text/plain": [
       "FloatProgress(value=0.0, bar_style='info', description='Progress:', layout=Layout(height='25px', width='50%'),…"
      ]
     },
     "metadata": {},
     "output_type": "display_data"
    },
    {
     "name": "stdout",
     "output_type": "stream",
     "text": [
      "+-----------------------------------------+--------------+\n",
      "|Airline                                  |DelayDepCounts|\n",
      "+-----------------------------------------+--------------+\n",
      "|United Air Lines Inc.                    |419694        |\n",
      "|Compass Airlines                         |28316         |\n",
      "|Southwest Airlines Co.                   |1379909       |\n",
      "|Commutair Aka Champlain Enterprises, Inc.|51319         |\n",
      "|Alaska Airlines Inc.                     |170309        |\n",
      "|Allegiant Air                            |101745        |\n",
      "|SkyWest Airlines Inc.                    |506783        |\n",
      "|Horizon Air                              |84299         |\n",
      "|Air Wisconsin Airlines Corp              |53441         |\n",
      "|Trans States Airlines                    |27774         |\n",
      "|ExpressJet Airlines Inc.                 |46096         |\n",
      "|Capital Cargo International              |58755         |\n",
      "|Hawaiian Airlines Inc.                   |50644         |\n",
      "|GoJet Airlines, LLC d/b/a United Express |43440         |\n",
      "|Frontier Airlines Inc.                   |115836        |\n",
      "|JetBlue Airways                          |228712        |\n",
      "|Empire Airlines Inc.                     |3437          |\n",
      "|Comair Inc.                              |182466        |\n",
      "|Delta Air Lines Inc.                     |610687        |\n",
      "|Republic Airlines                        |171029        |\n",
      "+-----------------------------------------+--------------+\n",
      "only showing top 20 rows"
     ]
    }
   ],
   "source": [
    "delaydepcounts.show(truncate= False)"
   ]
  },
  {
   "cell_type": "code",
   "execution_count": 59,
   "id": "f0217c72",
   "metadata": {},
   "outputs": [
    {
     "data": {
      "application/vnd.jupyter.widget-view+json": {
       "model_id": "f63c0b6118604ceb879e0e2a1492d121",
       "version_major": 2,
       "version_minor": 0
      },
      "text/plain": [
       "VBox()"
      ]
     },
     "metadata": {},
     "output_type": "display_data"
    },
    {
     "data": {
      "application/vnd.jupyter.widget-view+json": {
       "model_id": "",
       "version_major": 2,
       "version_minor": 0
      },
      "text/plain": [
       "FloatProgress(value=0.0, bar_style='info', description='Progress:', layout=Layout(height='25px', width='50%'),…"
      ]
     },
     "metadata": {},
     "output_type": "display_data"
    }
   ],
   "source": [
    "merged_t =  merged.groupBy('Airline').agg(count('DepDelay').alias('TotalFlightCounts'),\n",
    "                                    cnt_cond(col('DepDelay') > 0).alias('DelayedDepartureFlightCounts'),\n",
    "                                    cnt_cond(col('DepDelay') <= 0).alias('EarlyOntimeDepartureFlightCounts'),\n",
    "                                    cnt_cond(col('ArrDelay') > 0).alias('DelayedArrivalFlightCounts'),\n",
    "                                    cnt_cond(col('ArrDelay') <= 0).alias('EarlyOntimeArrivalFlightCounts'))\n",
    "\n",
    "merged_t = merged_t.withColumn(\"Departure Delayed Ratio\", merged_t.DelayedDepartureFlightCounts / merged_t.TotalFlightCounts)\n",
    "merged_t = merged_t.withColumn(\"Departure Early/Ontime Ratio\", merged_t.EarlyOntimeDepartureFlightCounts / merged_t.TotalFlightCounts)\n",
    "merged_t = merged_t.withColumn(\"Arrival Delayed Ratio\", merged_t.DelayedArrivalFlightCounts / merged_t.TotalFlightCounts)\n",
    "merged_t = merged_t.withColumn(\"Arrival Early/Ontime Ratio\", merged_t.EarlyOntimeArrivalFlightCounts / merged_t.TotalFlightCounts)"
   ]
  },
  {
   "cell_type": "code",
   "execution_count": 60,
   "id": "dfef5998",
   "metadata": {},
   "outputs": [
    {
     "data": {
      "application/vnd.jupyter.widget-view+json": {
       "model_id": "2d7168bb68974deeafe99a9e80ded317",
       "version_major": 2,
       "version_minor": 0
      },
      "text/plain": [
       "VBox()"
      ]
     },
     "metadata": {},
     "output_type": "display_data"
    },
    {
     "data": {
      "application/vnd.jupyter.widget-view+json": {
       "model_id": "",
       "version_major": 2,
       "version_minor": 0
      },
      "text/plain": [
       "FloatProgress(value=0.0, bar_style='info', description='Progress:', layout=Layout(height='25px', width='50%'),…"
      ]
     },
     "metadata": {},
     "output_type": "display_data"
    },
    {
     "name": "stdout",
     "output_type": "stream",
     "text": [
      "+--------------------+-----------------------+----------------------------+---------------------+--------------------------+\n",
      "|             Airline|Departure Delayed Ratio|Departure Early/Ontime Ratio|Arrival Delayed Ratio|Arrival Early/Ontime Ratio|\n",
      "+--------------------+-----------------------+----------------------------+---------------------+--------------------------+\n",
      "|United Air Lines ...|    0.31150167925333533|          0.6884983207466647|  0.32018703727756853|        0.6769918171191064|\n",
      "|    Compass Airlines|     0.2615410193412521|          0.7384589806587479|   0.3232224336356751|        0.6751242310605361|\n",
      "|Southwest Airline...|     0.4238721492718133|          0.5761278507281866|  0.31317125195516243|        0.6847559379803433|\n",
      "|Commutair Aka Cha...|     0.3192790573245238|          0.6807209426754762|   0.4154441499620491|        0.5800204063857056|\n",
      "|Alaska Airlines Inc.|     0.2933044694276818|          0.7066955305723182|  0.33713076244798984|        0.6596504643024441|\n",
      "+--------------------+-----------------------+----------------------------+---------------------+--------------------------+\n",
      "only showing top 5 rows"
     ]
    }
   ],
   "source": [
    "airlines = merged_t.select(\"Airline\", \"Departure Delayed Ratio\", \"Departure Early/Ontime Ratio\" , \"Arrival Delayed Ratio\", \"Arrival Early/Ontime Ratio\")\n",
    "airlines.show(5)\n"
   ]
  },
  {
   "cell_type": "code",
   "execution_count": 61,
   "id": "2f5494cb",
   "metadata": {},
   "outputs": [
    {
     "data": {
      "application/vnd.jupyter.widget-view+json": {
       "model_id": "07d4a7fb6f09412d8ec581beaea2d14e",
       "version_major": 2,
       "version_minor": 0
      },
      "text/plain": [
       "VBox()"
      ]
     },
     "metadata": {},
     "output_type": "display_data"
    },
    {
     "data": {
      "application/vnd.jupyter.widget-view+json": {
       "model_id": "",
       "version_major": 2,
       "version_minor": 0
      },
      "text/plain": [
       "FloatProgress(value=0.0, bar_style='info', description='Progress:', layout=Layout(height='25px', width='50%'),…"
      ]
     },
     "metadata": {},
     "output_type": "display_data"
    }
   ],
   "source": [
    "#Exporting to S3 to use it for visualizations\n",
    "airlines.repartition(1).write.csv(\"s3://airlinebdai/airlines.csv\")"
   ]
  },
  {
   "cell_type": "code",
   "execution_count": 82,
   "id": "f5395095",
   "metadata": {},
   "outputs": [
    {
     "data": {
      "application/vnd.jupyter.widget-view+json": {
       "model_id": "f242333893e64762a4bce8e91b948dad",
       "version_major": 2,
       "version_minor": 0
      },
      "text/plain": [
       "VBox()"
      ]
     },
     "metadata": {},
     "output_type": "display_data"
    },
    {
     "data": {
      "application/vnd.jupyter.widget-view+json": {
       "model_id": "",
       "version_major": 2,
       "version_minor": 0
      },
      "text/plain": [
       "FloatProgress(value=0.0, bar_style='info', description='Progress:', layout=Layout(height='25px', width='50%'),…"
      ]
     },
     "metadata": {},
     "output_type": "display_data"
    },
    {
     "name": "stdout",
     "output_type": "stream",
     "text": [
      "+-----------------------------------------+------------------------+\n",
      "|Airline                                  |Count of Delayed Flights|\n",
      "+-----------------------------------------+------------------------+\n",
      "|United Air Lines Inc.                    |419694                  |\n",
      "|Compass Airlines                         |28316                   |\n",
      "|Southwest Airlines Co.                   |1379909                 |\n",
      "|Commutair Aka Champlain Enterprises, Inc.|51319                   |\n",
      "|Alaska Airlines Inc.                     |170309                  |\n",
      "|Allegiant Air                            |101745                  |\n",
      "|SkyWest Airlines Inc.                    |506783                  |\n",
      "|Horizon Air                              |84299                   |\n",
      "|Air Wisconsin Airlines Corp              |53441                   |\n",
      "|Trans States Airlines                    |27774                   |\n",
      "|ExpressJet Airlines Inc.                 |46096                   |\n",
      "|Capital Cargo International              |58755                   |\n",
      "|Hawaiian Airlines Inc.                   |50644                   |\n",
      "|GoJet Airlines, LLC d/b/a United Express |43440                   |\n",
      "|Frontier Airlines Inc.                   |115836                  |\n",
      "|JetBlue Airways                          |228712                  |\n",
      "|Empire Airlines Inc.                     |3437                    |\n",
      "|Comair Inc.                              |182466                  |\n",
      "|Delta Air Lines Inc.                     |610687                  |\n",
      "|Republic Airlines                        |171029                  |\n",
      "+-----------------------------------------+------------------------+\n",
      "only showing top 20 rows"
     ]
    }
   ],
   "source": [
    "cnt_cond = lambda cond: sum(when(cond, 1).otherwise(0))\n",
    "merged.groupBy('Airline').agg(cnt_cond(col('DepDelay') > 0)).withColumnRenamed(\"sum(CASE WHEN (DepDelay > 0) THEN 1 ELSE 0 END)\", \"Count of Delayed Flights\").show(truncate=False)"
   ]
  },
  {
   "cell_type": "markdown",
   "id": "7bcdd5de",
   "metadata": {},
   "source": [
    "### Predictive Analytics "
   ]
  },
  {
   "cell_type": "code",
   "execution_count": 7,
   "id": "71bbc029",
   "metadata": {},
   "outputs": [
    {
     "data": {
      "application/vnd.jupyter.widget-view+json": {
       "model_id": "936dd2b019804ff097af980493e9bb6a",
       "version_major": 2,
       "version_minor": 0
      },
      "text/plain": [
       "VBox()"
      ]
     },
     "metadata": {},
     "output_type": "display_data"
    },
    {
     "data": {
      "application/vnd.jupyter.widget-view+json": {
       "model_id": "",
       "version_major": 2,
       "version_minor": 0
      },
      "text/plain": [
       "FloatProgress(value=0.0, bar_style='info', description='Progress:', layout=Layout(height='25px', width='50%'),…"
      ]
     },
     "metadata": {},
     "output_type": "display_data"
    }
   ],
   "source": [
    "#Predicting if a given flight will be cancelled \n",
    "from pyspark.sql.functions import round\n",
    "from pyspark.ml.feature import StringIndexer\n",
    "from pyspark.ml.feature import OneHotEncoderEstimator, VectorAssembler\n",
    "from pyspark.ml.classification import DecisionTreeClassifier\n",
    "from pyspark.ml.classification import LogisticRegression\n",
    "from pyspark.ml.evaluation import MulticlassClassificationEvaluator, BinaryClassificationEvaluator\n",
    "from pyspark.ml import Pipeline"
   ]
  },
  {
   "cell_type": "code",
   "execution_count": 8,
   "id": "dda8f8fa",
   "metadata": {},
   "outputs": [
    {
     "data": {
      "application/vnd.jupyter.widget-view+json": {
       "model_id": "9f9a4a60429440f89f160c52abec9df6",
       "version_major": 2,
       "version_minor": 0
      },
      "text/plain": [
       "VBox()"
      ]
     },
     "metadata": {},
     "output_type": "display_data"
    },
    {
     "data": {
      "application/vnd.jupyter.widget-view+json": {
       "model_id": "",
       "version_major": 2,
       "version_minor": 0
      },
      "text/plain": [
       "FloatProgress(value=0.0, bar_style='info', description='Progress:', layout=Layout(height='25px', width='50%'),…"
      ]
     },
     "metadata": {},
     "output_type": "display_data"
    },
    {
     "name": "stdout",
     "output_type": "stream",
     "text": [
      "[('FlightDate', 'timestamp'), ('Airline', 'string'), ('Origin', 'string'), ('Dest', 'string'), ('Cancelled', 'int'), ('Diverted', 'int'), ('CRSDepTime', 'int'), ('DepTime', 'double'), ('DepDelayMinutes', 'double'), ('DepDelay', 'double'), ('ArrTime', 'double'), ('ArrDelayMinutes', 'double'), ('AirTime', 'double'), ('CRSElapsedTime', 'double'), ('ActualElapsedTime', 'double'), ('Distance', 'double'), ('Year', 'int'), ('Quarter', 'int'), ('Month', 'int'), ('DayofMonth', 'int'), ('DayOfWeek', 'int'), ('IATA_Code_Marketing_Airline', 'string'), ('Flight_Number_Marketing_Airline', 'int'), ('Operating_Airline', 'string'), ('Flight_Number_Operating_Airline', 'int'), ('OriginAirportID', 'int'), ('OriginAirportSeqID', 'int'), ('OriginCityName', 'string'), ('OriginState', 'string'), ('OriginStateName', 'string'), ('DestAirportID', 'int'), ('DestAirportSeqID', 'int'), ('DestCityMarketID', 'int'), ('DestCityName', 'string'), ('DestState', 'string'), ('DestStateName', 'string'), ('DepDel15', 'double'), ('DepartureDelayGroups', 'double'), ('CRSArrTime', 'int'), ('ArrDelay', 'double'), ('ArrDel15', 'double'), ('ArrivalDelayGroups', 'double')]"
     ]
    }
   ],
   "source": [
    "#Exploring data types of columns for feature engineering\n",
    "merged.dtypes"
   ]
  },
  {
   "cell_type": "code",
   "execution_count": 9,
   "id": "8e392bd8",
   "metadata": {},
   "outputs": [
    {
     "data": {
      "application/vnd.jupyter.widget-view+json": {
       "model_id": "c4fd79c13a74482181764d59c5bedbde",
       "version_major": 2,
       "version_minor": 0
      },
      "text/plain": [
       "VBox()"
      ]
     },
     "metadata": {},
     "output_type": "display_data"
    },
    {
     "data": {
      "application/vnd.jupyter.widget-view+json": {
       "model_id": "",
       "version_major": 2,
       "version_minor": 0
      },
      "text/plain": [
       "FloatProgress(value=0.0, bar_style='info', description='Progress:', layout=Layout(height='25px', width='50%'),…"
      ]
     },
     "metadata": {},
     "output_type": "display_data"
    }
   ],
   "source": [
    "#Selecting features for our model\n",
    "merged = merged.select(\"Airline\", \"Origin\", \"Dest\", \"Cancelled\", \"Diverted\", \"DepDelay\", \"ArrDelay\", \"AirTime\", \"Year\", \"Month\", \"DayofMonth\", \"Quarter\", \"OriginStateName\", \"DestStateName\", \"Distance\")"
   ]
  },
  {
   "cell_type": "code",
   "execution_count": 10,
   "id": "06319ad3",
   "metadata": {},
   "outputs": [
    {
     "data": {
      "application/vnd.jupyter.widget-view+json": {
       "model_id": "075812a1d35f4d5885a3d48d582f1768",
       "version_major": 2,
       "version_minor": 0
      },
      "text/plain": [
       "VBox()"
      ]
     },
     "metadata": {},
     "output_type": "display_data"
    },
    {
     "data": {
      "application/vnd.jupyter.widget-view+json": {
       "model_id": "",
       "version_major": 2,
       "version_minor": 0
      },
      "text/plain": [
       "FloatProgress(value=0.0, bar_style='info', description='Progress:', layout=Layout(height='25px', width='50%'),…"
      ]
     },
     "metadata": {},
     "output_type": "display_data"
    },
    {
     "name": "stdout",
     "output_type": "stream",
     "text": [
      "+-------+------+----+---------+--------+--------+--------+-------+----+-----+----------+-------+---------------+-------------+--------+\n",
      "|Airline|Origin|Dest|Cancelled|Diverted|DepDelay|ArrDelay|AirTime|Year|Month|DayofMonth|Quarter|OriginStateName|DestStateName|Distance|\n",
      "+-------+------+----+---------+--------+--------+--------+-------+----+-----+----------+-------+---------------+-------------+--------+\n",
      "|      0|     0|   0|        0|       0|  556014|  609888| 609888|   0|    0|         0|      0|              0|            0|       0|\n",
      "+-------+------+----+---------+--------+--------+--------+-------+----+-----+----------+-------+---------------+-------------+--------+"
     ]
    }
   ],
   "source": [
    "df_Columns = [\"Airline\", \"Origin\", \"Dest\", \"Cancelled\", \"Diverted\", \"DepDelay\", \"ArrDelay\", \"AirTime\", \"Year\", \"Month\", \"DayofMonth\", \"Quarter\", \"OriginStateName\", \"DestStateName\", \"Distance\"]\n",
    "merged.select([count(when(isnan(c) | col(c).isNull(), c)).alias(c) for c in df_Columns]).show()\n",
    "\n"
   ]
  },
  {
   "cell_type": "code",
   "execution_count": 11,
   "id": "413ca1ad",
   "metadata": {},
   "outputs": [
    {
     "data": {
      "application/vnd.jupyter.widget-view+json": {
       "model_id": "2423befa78494c71bdb335ad4c13751d",
       "version_major": 2,
       "version_minor": 0
      },
      "text/plain": [
       "VBox()"
      ]
     },
     "metadata": {},
     "output_type": "display_data"
    },
    {
     "data": {
      "application/vnd.jupyter.widget-view+json": {
       "model_id": "",
       "version_major": 2,
       "version_minor": 0
      },
      "text/plain": [
       "FloatProgress(value=0.0, bar_style='info', description='Progress:', layout=Layout(height='25px', width='50%'),…"
      ]
     },
     "metadata": {},
     "output_type": "display_data"
    }
   ],
   "source": [
    "#We have to fill nas with 0 for rows which have cancelled as true\n",
    "merged = merged.fillna(value=0)"
   ]
  },
  {
   "cell_type": "code",
   "execution_count": 12,
   "id": "767b0bbb",
   "metadata": {},
   "outputs": [
    {
     "data": {
      "application/vnd.jupyter.widget-view+json": {
       "model_id": "6641c41e3fe547f7a8e1a4674a77e3cc",
       "version_major": 2,
       "version_minor": 0
      },
      "text/plain": [
       "VBox()"
      ]
     },
     "metadata": {},
     "output_type": "display_data"
    },
    {
     "data": {
      "application/vnd.jupyter.widget-view+json": {
       "model_id": "",
       "version_major": 2,
       "version_minor": 0
      },
      "text/plain": [
       "FloatProgress(value=0.0, bar_style='info', description='Progress:', layout=Layout(height='25px', width='50%'),…"
      ]
     },
     "metadata": {},
     "output_type": "display_data"
    },
    {
     "name": "stdout",
     "output_type": "stream",
     "text": [
      "['Airline', 'Origin', 'Dest', 'Cancelled', 'Diverted', 'DepDelay', 'ArrDelay', 'AirTime', 'Year', 'Month', 'DayofMonth', 'Quarter', 'OriginStateName', 'DestStateName', 'Distance']"
     ]
    }
   ],
   "source": [
    "#Storing column names in a variable to use it in our pipeline stages\n",
    "cols = merged.columns\n",
    "cols"
   ]
  },
  {
   "cell_type": "code",
   "execution_count": 13,
   "id": "4810d49a",
   "metadata": {},
   "outputs": [
    {
     "data": {
      "application/vnd.jupyter.widget-view+json": {
       "model_id": "cb272cb6e102484598790651c3958904",
       "version_major": 2,
       "version_minor": 0
      },
      "text/plain": [
       "VBox()"
      ]
     },
     "metadata": {},
     "output_type": "display_data"
    },
    {
     "data": {
      "application/vnd.jupyter.widget-view+json": {
       "model_id": "",
       "version_major": 2,
       "version_minor": 0
      },
      "text/plain": [
       "FloatProgress(value=0.0, bar_style='info', description='Progress:', layout=Layout(height='25px', width='50%'),…"
      ]
     },
     "metadata": {},
     "output_type": "display_data"
    }
   ],
   "source": [
    "#Storing categorical columns in a seperate variable\n",
    "categoricalColumns = [\"Airline\", \"Origin\", \"Dest\", \"OriginStateName\", \"DestStateName\"]\n",
    "\n",
    "#Initiating stages of a pipeline\n",
    "stages = []\n",
    "\n",
    "#Converting categorical to numerical using a string indexer\n",
    "for categoricalCol in categoricalColumns:\n",
    "    stringIndexer = StringIndexer(inputCol = categoricalCol, outputCol = categoricalCol + 'Index')\n",
    "    encoder = OneHotEncoderEstimator(inputCols=[stringIndexer.getOutputCol()], outputCols=[categoricalCol + \"classVec\"])\n",
    "    stages += [stringIndexer, encoder]\n",
    "    \n",
    "    \n",
    "#Doing the same for the target variable     \n",
    "label_stringIdx = StringIndexer(inputCol = 'Cancelled', outputCol = 'label')\n",
    "stages += [label_stringIdx]\n",
    "\n",
    "numericCols = [\"Diverted\", \"DepDelay\", \"ArrDelay\", \"AirTime\", \"Year\", \"Month\", \"DayofMonth\", \"Quarter\", \"Distance\"]\n",
    "\n",
    "#Vector Assembler to convert  input columns into a vector\n",
    "assemblerInputs = [c + \"classVec\" for c in categoricalColumns] + numericCols\n",
    "assembler = VectorAssembler(inputCols=assemblerInputs, outputCol=\"features\")\n",
    "stages += [assembler]"
   ]
  },
  {
   "cell_type": "code",
   "execution_count": 14,
   "id": "0887e318",
   "metadata": {},
   "outputs": [
    {
     "data": {
      "application/vnd.jupyter.widget-view+json": {
       "model_id": "804f8b0ee796417da111e8eed94e97f7",
       "version_major": 2,
       "version_minor": 0
      },
      "text/plain": [
       "VBox()"
      ]
     },
     "metadata": {},
     "output_type": "display_data"
    },
    {
     "data": {
      "application/vnd.jupyter.widget-view+json": {
       "model_id": "",
       "version_major": 2,
       "version_minor": 0
      },
      "text/plain": [
       "FloatProgress(value=0.0, bar_style='info', description='Progress:', layout=Layout(height='25px', width='50%'),…"
      ]
     },
     "metadata": {},
     "output_type": "display_data"
    },
    {
     "name": "stdout",
     "output_type": "stream",
     "text": [
      "root\n",
      " |-- label: double (nullable = false)\n",
      " |-- features: vector (nullable = true)\n",
      " |-- Airline: string (nullable = true)\n",
      " |-- Origin: string (nullable = true)\n",
      " |-- Dest: string (nullable = true)\n",
      " |-- Cancelled: integer (nullable = false)\n",
      " |-- Diverted: integer (nullable = false)\n",
      " |-- DepDelay: double (nullable = false)\n",
      " |-- ArrDelay: double (nullable = false)\n",
      " |-- AirTime: double (nullable = false)\n",
      " |-- Year: integer (nullable = true)\n",
      " |-- Month: integer (nullable = true)\n",
      " |-- DayofMonth: integer (nullable = true)\n",
      " |-- Quarter: integer (nullable = true)\n",
      " |-- OriginStateName: string (nullable = true)\n",
      " |-- DestStateName: string (nullable = true)\n",
      " |-- Distance: double (nullable = false)"
     ]
    }
   ],
   "source": [
    "#Creating a pipeline\n",
    "pipeline = Pipeline(stages = stages)\n",
    "pipelineModel = pipeline.fit(merged)\n",
    "merged = pipelineModel.transform(merged)\n",
    "selectedCols = ['label', 'features'] + cols\n",
    "merged = merged.select(selectedCols)\n",
    "merged.printSchema()"
   ]
  },
  {
   "cell_type": "code",
   "execution_count": 15,
   "id": "4b59e248",
   "metadata": {},
   "outputs": [
    {
     "data": {
      "application/vnd.jupyter.widget-view+json": {
       "model_id": "a8a5e00ff9364753991edd0675258016",
       "version_major": 2,
       "version_minor": 0
      },
      "text/plain": [
       "VBox()"
      ]
     },
     "metadata": {},
     "output_type": "display_data"
    },
    {
     "data": {
      "application/vnd.jupyter.widget-view+json": {
       "model_id": "",
       "version_major": 2,
       "version_minor": 0
      },
      "text/plain": [
       "FloatProgress(value=0.0, bar_style='info', description='Progress:', layout=Layout(height='25px', width='50%'),…"
      ]
     },
     "metadata": {},
     "output_type": "display_data"
    }
   ],
   "source": [
    "#Splitting data into train and test\n",
    "train, test = merged.randomSplit([0.7, 0.3], seed = 42)"
   ]
  },
  {
   "cell_type": "markdown",
   "id": "ce35cf0c",
   "metadata": {},
   "source": [
    "#### Logistic Regression Model"
   ]
  },
  {
   "cell_type": "code",
   "execution_count": 16,
   "id": "d65cf536",
   "metadata": {},
   "outputs": [
    {
     "data": {
      "application/vnd.jupyter.widget-view+json": {
       "model_id": "34a885abbef2447d959133623f012c23",
       "version_major": 2,
       "version_minor": 0
      },
      "text/plain": [
       "VBox()"
      ]
     },
     "metadata": {},
     "output_type": "display_data"
    },
    {
     "data": {
      "application/vnd.jupyter.widget-view+json": {
       "model_id": "",
       "version_major": 2,
       "version_minor": 0
      },
      "text/plain": [
       "FloatProgress(value=0.0, bar_style='info', description='Progress:', layout=Layout(height='25px', width='50%'),…"
      ]
     },
     "metadata": {},
     "output_type": "display_data"
    }
   ],
   "source": [
    "#Fitting and transforming\n",
    "lr = LogisticRegression(featuresCol = 'features', labelCol = 'label', maxIter=10)\n",
    "lrModel = lr.fit(train)\n",
    "predictions = lrModel.transform(test)"
   ]
  },
  {
   "cell_type": "code",
   "execution_count": 19,
   "id": "5646f42c",
   "metadata": {},
   "outputs": [
    {
     "data": {
      "application/vnd.jupyter.widget-view+json": {
       "model_id": "15b6e4773792431d86491ef95b72051e",
       "version_major": 2,
       "version_minor": 0
      },
      "text/plain": [
       "VBox()"
      ]
     },
     "metadata": {},
     "output_type": "display_data"
    },
    {
     "data": {
      "application/vnd.jupyter.widget-view+json": {
       "model_id": "",
       "version_major": 2,
       "version_minor": 0
      },
      "text/plain": [
       "FloatProgress(value=0.0, bar_style='info', description='Progress:', layout=Layout(height='25px', width='50%'),…"
      ]
     },
     "metadata": {},
     "output_type": "display_data"
    },
    {
     "name": "stdout",
     "output_type": "stream",
     "text": [
      "Accuracy 0.9754975980628011"
     ]
    }
   ],
   "source": [
    "#Evaluating the model using the metric- Accuracy\n",
    "evaluator=MulticlassClassificationEvaluator(labelCol = \"label\", metricName=\"accuracy\")\n",
    "print('Accuracy', evaluator.evaluate(predictions))"
   ]
  },
  {
   "cell_type": "code",
   "execution_count": 26,
   "id": "132aaee0",
   "metadata": {},
   "outputs": [
    {
     "data": {
      "application/vnd.jupyter.widget-view+json": {
       "model_id": "d5da5ecabe4149c3a84c493dca9d1349",
       "version_major": 2,
       "version_minor": 0
      },
      "text/plain": [
       "VBox()"
      ]
     },
     "metadata": {},
     "output_type": "display_data"
    },
    {
     "data": {
      "application/vnd.jupyter.widget-view+json": {
       "model_id": "",
       "version_major": 2,
       "version_minor": 0
      },
      "text/plain": [
       "FloatProgress(value=0.0, bar_style='info', description='Progress:', layout=Layout(height='25px', width='50%'),…"
      ]
     },
     "metadata": {},
     "output_type": "display_data"
    },
    {
     "name": "stdout",
     "output_type": "stream",
     "text": [
      "+--------------------+-------------------+\n",
      "|                 FPR|                TPR|\n",
      "+--------------------+-------------------+\n",
      "|                 0.0|                0.0|\n",
      "|0.003988670198095797|0.28931207804031644|\n",
      "|0.010790475094652991| 0.4405883287559298|\n",
      "|0.011286701208326873|0.44849979698017467|\n",
      "|0.019356984581388847|  0.543813191496874|\n",
      "| 0.02677060726456548| 0.5985503627876009|\n",
      "| 0.03581713276142977|   0.64791570515973|\n",
      "|0.045070526448867006| 0.6887819567075985|\n",
      "|0.047720045148925784| 0.6988421564992825|\n",
      "| 0.05716182447896826| 0.7321954135173374|\n",
      "| 0.06640059877395564| 0.7616017633721971|\n",
      "|  0.0760170533319224| 0.7887786781265683|\n",
      "| 0.08343105475583608| 0.8065258894412037|\n",
      "| 0.09318324999395909| 0.8269136194777977|\n",
      "| 0.10300240659439132| 0.8436570806001317|\n",
      "| 0.10626101614776282|  0.848355539414849|\n",
      "| 0.11615675412522516| 0.8615757869224968|\n",
      "| 0.12608210962832428|   0.87339633252882|\n",
      "| 0.12917755767217762| 0.8768211887126021|\n",
      "| 0.13913866630085361| 0.8872647302862705|\n",
      "+--------------------+-------------------+\n",
      "only showing top 20 rows"
     ]
    }
   ],
   "source": [
    "#Examining the model summary\n",
    "trainingSummary_lr = lrModel.summary\n",
    "trainingSummary_lr.roc.show()"
   ]
  },
  {
   "cell_type": "markdown",
   "id": "d167397f",
   "metadata": {},
   "source": [
    "#### Random Forest"
   ]
  },
  {
   "cell_type": "code",
   "execution_count": 20,
   "id": "90248e45",
   "metadata": {},
   "outputs": [
    {
     "data": {
      "application/vnd.jupyter.widget-view+json": {
       "model_id": "5dfc134bc0cb43eeb18b4667355af25b",
       "version_major": 2,
       "version_minor": 0
      },
      "text/plain": [
       "VBox()"
      ]
     },
     "metadata": {},
     "output_type": "display_data"
    },
    {
     "data": {
      "application/vnd.jupyter.widget-view+json": {
       "model_id": "",
       "version_major": 2,
       "version_minor": 0
      },
      "text/plain": [
       "FloatProgress(value=0.0, bar_style='info', description='Progress:', layout=Layout(height='25px', width='50%'),…"
      ]
     },
     "metadata": {},
     "output_type": "display_data"
    }
   ],
   "source": [
    "from pyspark.ml.classification import RandomForestClassifier\n",
    "rf = RandomForestClassifier(featuresCol = 'features', labelCol = 'label')\n",
    "rfModel = rf.fit(train)\n",
    "predictions_rf = rfModel.transform(test)"
   ]
  },
  {
   "cell_type": "code",
   "execution_count": 27,
   "id": "1c788bab",
   "metadata": {},
   "outputs": [
    {
     "data": {
      "application/vnd.jupyter.widget-view+json": {
       "model_id": "12ac536839d94d8a860fb611f9b5ba60",
       "version_major": 2,
       "version_minor": 0
      },
      "text/plain": [
       "VBox()"
      ]
     },
     "metadata": {},
     "output_type": "display_data"
    },
    {
     "data": {
      "application/vnd.jupyter.widget-view+json": {
       "model_id": "",
       "version_major": 2,
       "version_minor": 0
      },
      "text/plain": [
       "FloatProgress(value=0.0, bar_style='info', description='Progress:', layout=Layout(height='25px', width='50%'),…"
      ]
     },
     "metadata": {},
     "output_type": "display_data"
    },
    {
     "name": "stdout",
     "output_type": "stream",
     "text": [
      "Accuracy 0.9709686131772629"
     ]
    }
   ],
   "source": [
    "evaluator_rf=MulticlassClassificationEvaluator(labelCol = \"label\", metricName=\"accuracy\")\n",
    "print('Accuracy', evaluator_rf.evaluate(predictions_rf))"
   ]
  },
  {
   "cell_type": "markdown",
   "id": "d1f4723c",
   "metadata": {},
   "source": [
    "---"
   ]
  }
 ],
 "metadata": {
  "kernelspec": {
   "display_name": "PySpark",
   "language": "",
   "name": "pysparkkernel"
  },
  "language_info": {
   "codemirror_mode": {
    "name": "python",
    "version": 2
   },
   "mimetype": "text/x-python",
   "name": "pyspark",
   "pygments_lexer": "python2"
  }
 },
 "nbformat": 4,
 "nbformat_minor": 5
}
